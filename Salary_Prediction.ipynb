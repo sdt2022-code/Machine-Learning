{
  "nbformat": 4,
  "nbformat_minor": 0,
  "metadata": {
    "colab": {
      "provenance": []
    },
    "kernelspec": {
      "name": "python3",
      "display_name": "Python 3"
    },
    "language_info": {
      "name": "python"
    }
  },
  "cells": [
    {
      "cell_type": "code",
      "execution_count": null,
      "metadata": {
        "id": "h_4CG7U66XVM"
      },
      "outputs": [],
      "source": [
        "#%pip install mlxtend  \n",
        "#from mlxtend.evaluate import bias_variance_decomp\n",
        "import pandas as pd\n",
        "from sklearn.linear_model import LogisticRegression\n",
        "from sklearn.model_selection import cross_val_score\n",
        "from sklearn.preprocessing import OneHotEncoder\n",
        "from sklearn.preprocessing import StandardScaler\n",
        "from sklearn.compose import make_column_transformer\n",
        "from sklearn.model_selection import GridSearchCV\n",
        "from sklearn.metrics import classification_report, confusion_matrix\n",
        "from sklearn.pipeline import make_pipeline, Pipeline\n",
        "from sklearn.model_selection import train_test_split\n",
        "import seaborn as sns\n",
        "import numpy as np\n",
        "from matplotlib import pyplot as plt"
      ]
    },
    {
      "cell_type": "code",
      "source": [
        "df = pd.read_csv('clean_kaggle_data_2022.csv')\n",
        "df.head()"
      ],
      "metadata": {
        "id": "ve7h30IW6bzw",
        "colab": {
          "base_uri": "https://localhost:8080/",
          "height": 855
        },
        "outputId": "9674afcd-80cc-4257-b9e0-a16c542029dc"
      },
      "execution_count": null,
      "outputs": [
        {
          "output_type": "stream",
          "name": "stderr",
          "text": [
            "/usr/local/lib/python3.7/dist-packages/IPython/core/interactiveshell.py:3326: DtypeWarning: Columns (0) have mixed types.Specify dtype option on import or set low_memory=False.\n",
            "  exec(code_obj, self.user_global_ns, self.user_ns)\n"
          ]
        },
        {
          "output_type": "execute_result",
          "data": {
            "text/plain": [
              "   Duration (in seconds)                           Q2  \\\n",
              "0  Duration (in seconds)  What is your age (# years)?   \n",
              "1                    851                        55-59   \n",
              "2                    501                        30-34   \n",
              "3                    787                          70+   \n",
              "4                   1132                        40-44   \n",
              "\n",
              "                                       Q3  \\\n",
              "0  What is your gender? - Selected Choice   \n",
              "1                                     Man   \n",
              "2                                     Man   \n",
              "3                                     Man   \n",
              "4                                     Man   \n",
              "\n",
              "                                          Q4  \\\n",
              "0  In which country do you currently reside?   \n",
              "1                                     France   \n",
              "2                                    Germany   \n",
              "3                                  Australia   \n",
              "4                   United States of America   \n",
              "\n",
              "                                                  Q5  \\\n",
              "0  Are you currently a student? (high school, uni...   \n",
              "1                                                 No   \n",
              "2                                                 No   \n",
              "3                                                 No   \n",
              "4                                                 No   \n",
              "\n",
              "                                                Q6_1  \\\n",
              "0  On which platforms have you begun or completed...   \n",
              "1                                           Coursera   \n",
              "2                                           Coursera   \n",
              "3                                           Coursera   \n",
              "4                                           Coursera   \n",
              "\n",
              "                                                Q6_2  \\\n",
              "0  On which platforms have you begun or completed...   \n",
              "1                                                NaN   \n",
              "2                                                edX   \n",
              "3                                                NaN   \n",
              "4                                                NaN   \n",
              "\n",
              "                                                Q6_3  \\\n",
              "0  On which platforms have you begun or completed...   \n",
              "1                               Kaggle Learn Courses   \n",
              "2                                                NaN   \n",
              "3                               Kaggle Learn Courses   \n",
              "4                               Kaggle Learn Courses   \n",
              "\n",
              "                                                Q6_4  \\\n",
              "0  On which platforms have you begun or completed...   \n",
              "1                                                NaN   \n",
              "2                                                NaN   \n",
              "3                                                NaN   \n",
              "4                                                NaN   \n",
              "\n",
              "                                                Q6_5  ...  \\\n",
              "0  On which platforms have you begun or completed...  ...   \n",
              "1                                                NaN  ...   \n",
              "2                                                NaN  ...   \n",
              "3                                                NaN  ...   \n",
              "4                                            Fast.ai  ...   \n",
              "\n",
              "                                               Q44_5  \\\n",
              "0  Who/what are your favorite media sources that ...   \n",
              "1  Course Forums (forums.fast.ai, Coursera forums...   \n",
              "2                                                NaN   \n",
              "3                                                NaN   \n",
              "4                                                NaN   \n",
              "\n",
              "                                               Q44_6  \\\n",
              "0  Who/what are your favorite media sources that ...   \n",
              "1                                                NaN   \n",
              "2  YouTube (Kaggle YouTube, Cloud AI Adventures, ...   \n",
              "3                                                NaN   \n",
              "4                                                NaN   \n",
              "\n",
              "                                               Q44_7  \\\n",
              "0  Who/what are your favorite media sources that ...   \n",
              "1                                                NaN   \n",
              "2                                                NaN   \n",
              "3  Podcasts (Chai Time Data Science, O’Reilly Dat...   \n",
              "4  Podcasts (Chai Time Data Science, O’Reilly Dat...   \n",
              "\n",
              "                                               Q44_8  \\\n",
              "0  Who/what are your favorite media sources that ...   \n",
              "1  Blogs (Towards Data Science, Analytics Vidhya,...   \n",
              "2  Blogs (Towards Data Science, Analytics Vidhya,...   \n",
              "3                                                NaN   \n",
              "4  Blogs (Towards Data Science, Analytics Vidhya,...   \n",
              "\n",
              "                                               Q44_9  \\\n",
              "0  Who/what are your favorite media sources that ...   \n",
              "1                                                NaN   \n",
              "2                                                NaN   \n",
              "3                                                NaN   \n",
              "4                                                NaN   \n",
              "\n",
              "                                              Q44_10  \\\n",
              "0  Who/what are your favorite media sources that ...   \n",
              "1                                                NaN   \n",
              "2                                                NaN   \n",
              "3                                                NaN   \n",
              "4                                                NaN   \n",
              "\n",
              "                                              Q44_11  \\\n",
              "0  Who/what are your favorite media sources that ...   \n",
              "1                                                NaN   \n",
              "2                                                NaN   \n",
              "3                                                NaN   \n",
              "4                                                NaN   \n",
              "\n",
              "                                              Q44_12 Q29_Encoded  \\\n",
              "0  Who/what are your favorite media sources that ...         NaN   \n",
              "1                                                NaN         2.0   \n",
              "2                                                NaN        10.0   \n",
              "3                                                NaN        10.0   \n",
              "4                                                NaN        13.0   \n",
              "\n",
              "       Q29_buckets  \n",
              "0              NaN  \n",
              "1    20,000-29,999  \n",
              "2  100,000-124,999  \n",
              "3  100,000-124,999  \n",
              "4  200,000-299,999  \n",
              "\n",
              "[5 rows x 298 columns]"
            ],
            "text/html": [
              "\n",
              "  <div id=\"df-7f144747-e292-4617-a4c2-32dfcbec5741\">\n",
              "    <div class=\"colab-df-container\">\n",
              "      <div>\n",
              "<style scoped>\n",
              "    .dataframe tbody tr th:only-of-type {\n",
              "        vertical-align: middle;\n",
              "    }\n",
              "\n",
              "    .dataframe tbody tr th {\n",
              "        vertical-align: top;\n",
              "    }\n",
              "\n",
              "    .dataframe thead th {\n",
              "        text-align: right;\n",
              "    }\n",
              "</style>\n",
              "<table border=\"1\" class=\"dataframe\">\n",
              "  <thead>\n",
              "    <tr style=\"text-align: right;\">\n",
              "      <th></th>\n",
              "      <th>Duration (in seconds)</th>\n",
              "      <th>Q2</th>\n",
              "      <th>Q3</th>\n",
              "      <th>Q4</th>\n",
              "      <th>Q5</th>\n",
              "      <th>Q6_1</th>\n",
              "      <th>Q6_2</th>\n",
              "      <th>Q6_3</th>\n",
              "      <th>Q6_4</th>\n",
              "      <th>Q6_5</th>\n",
              "      <th>...</th>\n",
              "      <th>Q44_5</th>\n",
              "      <th>Q44_6</th>\n",
              "      <th>Q44_7</th>\n",
              "      <th>Q44_8</th>\n",
              "      <th>Q44_9</th>\n",
              "      <th>Q44_10</th>\n",
              "      <th>Q44_11</th>\n",
              "      <th>Q44_12</th>\n",
              "      <th>Q29_Encoded</th>\n",
              "      <th>Q29_buckets</th>\n",
              "    </tr>\n",
              "  </thead>\n",
              "  <tbody>\n",
              "    <tr>\n",
              "      <th>0</th>\n",
              "      <td>Duration (in seconds)</td>\n",
              "      <td>What is your age (# years)?</td>\n",
              "      <td>What is your gender? - Selected Choice</td>\n",
              "      <td>In which country do you currently reside?</td>\n",
              "      <td>Are you currently a student? (high school, uni...</td>\n",
              "      <td>On which platforms have you begun or completed...</td>\n",
              "      <td>On which platforms have you begun or completed...</td>\n",
              "      <td>On which platforms have you begun or completed...</td>\n",
              "      <td>On which platforms have you begun or completed...</td>\n",
              "      <td>On which platforms have you begun or completed...</td>\n",
              "      <td>...</td>\n",
              "      <td>Who/what are your favorite media sources that ...</td>\n",
              "      <td>Who/what are your favorite media sources that ...</td>\n",
              "      <td>Who/what are your favorite media sources that ...</td>\n",
              "      <td>Who/what are your favorite media sources that ...</td>\n",
              "      <td>Who/what are your favorite media sources that ...</td>\n",
              "      <td>Who/what are your favorite media sources that ...</td>\n",
              "      <td>Who/what are your favorite media sources that ...</td>\n",
              "      <td>Who/what are your favorite media sources that ...</td>\n",
              "      <td>NaN</td>\n",
              "      <td>NaN</td>\n",
              "    </tr>\n",
              "    <tr>\n",
              "      <th>1</th>\n",
              "      <td>851</td>\n",
              "      <td>55-59</td>\n",
              "      <td>Man</td>\n",
              "      <td>France</td>\n",
              "      <td>No</td>\n",
              "      <td>Coursera</td>\n",
              "      <td>NaN</td>\n",
              "      <td>Kaggle Learn Courses</td>\n",
              "      <td>NaN</td>\n",
              "      <td>NaN</td>\n",
              "      <td>...</td>\n",
              "      <td>Course Forums (forums.fast.ai, Coursera forums...</td>\n",
              "      <td>NaN</td>\n",
              "      <td>NaN</td>\n",
              "      <td>Blogs (Towards Data Science, Analytics Vidhya,...</td>\n",
              "      <td>NaN</td>\n",
              "      <td>NaN</td>\n",
              "      <td>NaN</td>\n",
              "      <td>NaN</td>\n",
              "      <td>2.0</td>\n",
              "      <td>20,000-29,999</td>\n",
              "    </tr>\n",
              "    <tr>\n",
              "      <th>2</th>\n",
              "      <td>501</td>\n",
              "      <td>30-34</td>\n",
              "      <td>Man</td>\n",
              "      <td>Germany</td>\n",
              "      <td>No</td>\n",
              "      <td>Coursera</td>\n",
              "      <td>edX</td>\n",
              "      <td>NaN</td>\n",
              "      <td>NaN</td>\n",
              "      <td>NaN</td>\n",
              "      <td>...</td>\n",
              "      <td>NaN</td>\n",
              "      <td>YouTube (Kaggle YouTube, Cloud AI Adventures, ...</td>\n",
              "      <td>NaN</td>\n",
              "      <td>Blogs (Towards Data Science, Analytics Vidhya,...</td>\n",
              "      <td>NaN</td>\n",
              "      <td>NaN</td>\n",
              "      <td>NaN</td>\n",
              "      <td>NaN</td>\n",
              "      <td>10.0</td>\n",
              "      <td>100,000-124,999</td>\n",
              "    </tr>\n",
              "    <tr>\n",
              "      <th>3</th>\n",
              "      <td>787</td>\n",
              "      <td>70+</td>\n",
              "      <td>Man</td>\n",
              "      <td>Australia</td>\n",
              "      <td>No</td>\n",
              "      <td>Coursera</td>\n",
              "      <td>NaN</td>\n",
              "      <td>Kaggle Learn Courses</td>\n",
              "      <td>NaN</td>\n",
              "      <td>NaN</td>\n",
              "      <td>...</td>\n",
              "      <td>NaN</td>\n",
              "      <td>NaN</td>\n",
              "      <td>Podcasts (Chai Time Data Science, O’Reilly Dat...</td>\n",
              "      <td>NaN</td>\n",
              "      <td>NaN</td>\n",
              "      <td>NaN</td>\n",
              "      <td>NaN</td>\n",
              "      <td>NaN</td>\n",
              "      <td>10.0</td>\n",
              "      <td>100,000-124,999</td>\n",
              "    </tr>\n",
              "    <tr>\n",
              "      <th>4</th>\n",
              "      <td>1132</td>\n",
              "      <td>40-44</td>\n",
              "      <td>Man</td>\n",
              "      <td>United States of America</td>\n",
              "      <td>No</td>\n",
              "      <td>Coursera</td>\n",
              "      <td>NaN</td>\n",
              "      <td>Kaggle Learn Courses</td>\n",
              "      <td>NaN</td>\n",
              "      <td>Fast.ai</td>\n",
              "      <td>...</td>\n",
              "      <td>NaN</td>\n",
              "      <td>NaN</td>\n",
              "      <td>Podcasts (Chai Time Data Science, O’Reilly Dat...</td>\n",
              "      <td>Blogs (Towards Data Science, Analytics Vidhya,...</td>\n",
              "      <td>NaN</td>\n",
              "      <td>NaN</td>\n",
              "      <td>NaN</td>\n",
              "      <td>NaN</td>\n",
              "      <td>13.0</td>\n",
              "      <td>200,000-299,999</td>\n",
              "    </tr>\n",
              "  </tbody>\n",
              "</table>\n",
              "<p>5 rows × 298 columns</p>\n",
              "</div>\n",
              "      <button class=\"colab-df-convert\" onclick=\"convertToInteractive('df-7f144747-e292-4617-a4c2-32dfcbec5741')\"\n",
              "              title=\"Convert this dataframe to an interactive table.\"\n",
              "              style=\"display:none;\">\n",
              "        \n",
              "  <svg xmlns=\"http://www.w3.org/2000/svg\" height=\"24px\"viewBox=\"0 0 24 24\"\n",
              "       width=\"24px\">\n",
              "    <path d=\"M0 0h24v24H0V0z\" fill=\"none\"/>\n",
              "    <path d=\"M18.56 5.44l.94 2.06.94-2.06 2.06-.94-2.06-.94-.94-2.06-.94 2.06-2.06.94zm-11 1L8.5 8.5l.94-2.06 2.06-.94-2.06-.94L8.5 2.5l-.94 2.06-2.06.94zm10 10l.94 2.06.94-2.06 2.06-.94-2.06-.94-.94-2.06-.94 2.06-2.06.94z\"/><path d=\"M17.41 7.96l-1.37-1.37c-.4-.4-.92-.59-1.43-.59-.52 0-1.04.2-1.43.59L10.3 9.45l-7.72 7.72c-.78.78-.78 2.05 0 2.83L4 21.41c.39.39.9.59 1.41.59.51 0 1.02-.2 1.41-.59l7.78-7.78 2.81-2.81c.8-.78.8-2.07 0-2.86zM5.41 20L4 18.59l7.72-7.72 1.47 1.35L5.41 20z\"/>\n",
              "  </svg>\n",
              "      </button>\n",
              "      \n",
              "  <style>\n",
              "    .colab-df-container {\n",
              "      display:flex;\n",
              "      flex-wrap:wrap;\n",
              "      gap: 12px;\n",
              "    }\n",
              "\n",
              "    .colab-df-convert {\n",
              "      background-color: #E8F0FE;\n",
              "      border: none;\n",
              "      border-radius: 50%;\n",
              "      cursor: pointer;\n",
              "      display: none;\n",
              "      fill: #1967D2;\n",
              "      height: 32px;\n",
              "      padding: 0 0 0 0;\n",
              "      width: 32px;\n",
              "    }\n",
              "\n",
              "    .colab-df-convert:hover {\n",
              "      background-color: #E2EBFA;\n",
              "      box-shadow: 0px 1px 2px rgba(60, 64, 67, 0.3), 0px 1px 3px 1px rgba(60, 64, 67, 0.15);\n",
              "      fill: #174EA6;\n",
              "    }\n",
              "\n",
              "    [theme=dark] .colab-df-convert {\n",
              "      background-color: #3B4455;\n",
              "      fill: #D2E3FC;\n",
              "    }\n",
              "\n",
              "    [theme=dark] .colab-df-convert:hover {\n",
              "      background-color: #434B5C;\n",
              "      box-shadow: 0px 1px 3px 1px rgba(0, 0, 0, 0.15);\n",
              "      filter: drop-shadow(0px 1px 2px rgba(0, 0, 0, 0.3));\n",
              "      fill: #FFFFFF;\n",
              "    }\n",
              "  </style>\n",
              "\n",
              "      <script>\n",
              "        const buttonEl =\n",
              "          document.querySelector('#df-7f144747-e292-4617-a4c2-32dfcbec5741 button.colab-df-convert');\n",
              "        buttonEl.style.display =\n",
              "          google.colab.kernel.accessAllowed ? 'block' : 'none';\n",
              "\n",
              "        async function convertToInteractive(key) {\n",
              "          const element = document.querySelector('#df-7f144747-e292-4617-a4c2-32dfcbec5741');\n",
              "          const dataTable =\n",
              "            await google.colab.kernel.invokeFunction('convertToInteractive',\n",
              "                                                     [key], {});\n",
              "          if (!dataTable) return;\n",
              "\n",
              "          const docLinkHtml = 'Like what you see? Visit the ' +\n",
              "            '<a target=\"_blank\" href=https://colab.research.google.com/notebooks/data_table.ipynb>data table notebook</a>'\n",
              "            + ' to learn more about interactive tables.';\n",
              "          element.innerHTML = '';\n",
              "          dataTable['output_type'] = 'display_data';\n",
              "          await google.colab.output.renderOutput(dataTable, element);\n",
              "          const docLink = document.createElement('div');\n",
              "          docLink.innerHTML = docLinkHtml;\n",
              "          element.appendChild(docLink);\n",
              "        }\n",
              "      </script>\n",
              "    </div>\n",
              "  </div>\n",
              "  "
            ]
          },
          "metadata": {},
          "execution_count": 3
        }
      ]
    },
    {
      "cell_type": "markdown",
      "source": [
        "# **Question 1**: Data Cleaning"
      ],
      "metadata": {
        "id": "amCU8rhQ6wcd"
      }
    },
    {
      "cell_type": "code",
      "source": [
        "# seperate Multiple choice questions from written answers \n",
        "Written_Question = []\n",
        "MCQ_Question = []\n",
        "\n",
        "for i in df.columns:\n",
        "  if '_' not in i:\n",
        "    Written_Question.append(i)\n",
        "  if '_' in i:\n",
        "    MCQ_Question.append(i)\n",
        "\n",
        "# Note that the 2 added columns for bucks and encoded buckets contain a '_' in the columns name but are not MCQ questions.\n",
        "MCQ_Question.remove('Q29_buckets')\n",
        "MCQ_Question.remove('Q29_Encoded')\n",
        "\n"
      ],
      "metadata": {
        "id": "QiaqF6h16wJ0"
      },
      "execution_count": null,
      "outputs": []
    },
    {
      "cell_type": "code",
      "execution_count": null,
      "metadata": {
        "id": "0ed5ad1d",
        "outputId": "29b8bd65-dded-4943-ab9e-3f2b1906e3b0",
        "colab": {
          "base_uri": "https://localhost:8080/",
          "height": 421
        }
      },
      "outputs": [
        {
          "output_type": "execute_result",
          "data": {
            "text/plain": [
              "   Q6_1_0  Q6_1_Coursera  Q6_2_0  Q6_2_edX  Q6_3_0  Q6_3_Kaggle Learn Courses  \\\n",
              "1       0              1       1         0       0                          1   \n",
              "2       0              1       0         1       1                          0   \n",
              "3       0              1       1         0       0                          1   \n",
              "4       0              1       1         0       0                          1   \n",
              "5       0              1       1         0       1                          0   \n",
              "\n",
              "   Q6_4_0  Q6_4_DataCamp  Q6_5_0  Q6_5_Fast.ai  ...  Q44_8_0  \\\n",
              "1       1              0       1             0  ...        0   \n",
              "2       1              0       1             0  ...        0   \n",
              "3       1              0       1             0  ...        1   \n",
              "4       1              0       0             1  ...        0   \n",
              "5       1              0       1             0  ...        0   \n",
              "\n",
              "   Q44_8_Blogs (Towards Data Science, Analytics Vidhya, etc)  Q44_9_0  \\\n",
              "1                                                  1                1   \n",
              "2                                                  1                1   \n",
              "3                                                  0                1   \n",
              "4                                                  1                1   \n",
              "5                                                  1                0   \n",
              "\n",
              "   Q44_9_Journal Publications (peer-reviewed journals, conference proceedings, etc)  \\\n",
              "1                                                  0                                  \n",
              "2                                                  0                                  \n",
              "3                                                  0                                  \n",
              "4                                                  0                                  \n",
              "5                                                  1                                  \n",
              "\n",
              "   Q44_10_0  Q44_10_Slack Communities (ods.ai, kagglenoobs, etc)  Q44_11_0  \\\n",
              "1         1                                                  0           1   \n",
              "2         1                                                  0           1   \n",
              "3         1                                                  0           1   \n",
              "4         1                                                  0           1   \n",
              "5         1                                                  0           1   \n",
              "\n",
              "   Q44_11_None  Q44_12_0  Q44_12_Other  \n",
              "1            0         1             0  \n",
              "2            0         1             0  \n",
              "3            0         1             0  \n",
              "4            0         1             0  \n",
              "5            0         1             0  \n",
              "\n",
              "[5 rows x 554 columns]"
            ],
            "text/html": [
              "\n",
              "  <div id=\"df-1c79b9c4-7e6c-477d-8bad-06480e5f5ff5\">\n",
              "    <div class=\"colab-df-container\">\n",
              "      <div>\n",
              "<style scoped>\n",
              "    .dataframe tbody tr th:only-of-type {\n",
              "        vertical-align: middle;\n",
              "    }\n",
              "\n",
              "    .dataframe tbody tr th {\n",
              "        vertical-align: top;\n",
              "    }\n",
              "\n",
              "    .dataframe thead th {\n",
              "        text-align: right;\n",
              "    }\n",
              "</style>\n",
              "<table border=\"1\" class=\"dataframe\">\n",
              "  <thead>\n",
              "    <tr style=\"text-align: right;\">\n",
              "      <th></th>\n",
              "      <th>Q6_1_0</th>\n",
              "      <th>Q6_1_Coursera</th>\n",
              "      <th>Q6_2_0</th>\n",
              "      <th>Q6_2_edX</th>\n",
              "      <th>Q6_3_0</th>\n",
              "      <th>Q6_3_Kaggle Learn Courses</th>\n",
              "      <th>Q6_4_0</th>\n",
              "      <th>Q6_4_DataCamp</th>\n",
              "      <th>Q6_5_0</th>\n",
              "      <th>Q6_5_Fast.ai</th>\n",
              "      <th>...</th>\n",
              "      <th>Q44_8_0</th>\n",
              "      <th>Q44_8_Blogs (Towards Data Science, Analytics Vidhya, etc)</th>\n",
              "      <th>Q44_9_0</th>\n",
              "      <th>Q44_9_Journal Publications (peer-reviewed journals, conference proceedings, etc)</th>\n",
              "      <th>Q44_10_0</th>\n",
              "      <th>Q44_10_Slack Communities (ods.ai, kagglenoobs, etc)</th>\n",
              "      <th>Q44_11_0</th>\n",
              "      <th>Q44_11_None</th>\n",
              "      <th>Q44_12_0</th>\n",
              "      <th>Q44_12_Other</th>\n",
              "    </tr>\n",
              "  </thead>\n",
              "  <tbody>\n",
              "    <tr>\n",
              "      <th>1</th>\n",
              "      <td>0</td>\n",
              "      <td>1</td>\n",
              "      <td>1</td>\n",
              "      <td>0</td>\n",
              "      <td>0</td>\n",
              "      <td>1</td>\n",
              "      <td>1</td>\n",
              "      <td>0</td>\n",
              "      <td>1</td>\n",
              "      <td>0</td>\n",
              "      <td>...</td>\n",
              "      <td>0</td>\n",
              "      <td>1</td>\n",
              "      <td>1</td>\n",
              "      <td>0</td>\n",
              "      <td>1</td>\n",
              "      <td>0</td>\n",
              "      <td>1</td>\n",
              "      <td>0</td>\n",
              "      <td>1</td>\n",
              "      <td>0</td>\n",
              "    </tr>\n",
              "    <tr>\n",
              "      <th>2</th>\n",
              "      <td>0</td>\n",
              "      <td>1</td>\n",
              "      <td>0</td>\n",
              "      <td>1</td>\n",
              "      <td>1</td>\n",
              "      <td>0</td>\n",
              "      <td>1</td>\n",
              "      <td>0</td>\n",
              "      <td>1</td>\n",
              "      <td>0</td>\n",
              "      <td>...</td>\n",
              "      <td>0</td>\n",
              "      <td>1</td>\n",
              "      <td>1</td>\n",
              "      <td>0</td>\n",
              "      <td>1</td>\n",
              "      <td>0</td>\n",
              "      <td>1</td>\n",
              "      <td>0</td>\n",
              "      <td>1</td>\n",
              "      <td>0</td>\n",
              "    </tr>\n",
              "    <tr>\n",
              "      <th>3</th>\n",
              "      <td>0</td>\n",
              "      <td>1</td>\n",
              "      <td>1</td>\n",
              "      <td>0</td>\n",
              "      <td>0</td>\n",
              "      <td>1</td>\n",
              "      <td>1</td>\n",
              "      <td>0</td>\n",
              "      <td>1</td>\n",
              "      <td>0</td>\n",
              "      <td>...</td>\n",
              "      <td>1</td>\n",
              "      <td>0</td>\n",
              "      <td>1</td>\n",
              "      <td>0</td>\n",
              "      <td>1</td>\n",
              "      <td>0</td>\n",
              "      <td>1</td>\n",
              "      <td>0</td>\n",
              "      <td>1</td>\n",
              "      <td>0</td>\n",
              "    </tr>\n",
              "    <tr>\n",
              "      <th>4</th>\n",
              "      <td>0</td>\n",
              "      <td>1</td>\n",
              "      <td>1</td>\n",
              "      <td>0</td>\n",
              "      <td>0</td>\n",
              "      <td>1</td>\n",
              "      <td>1</td>\n",
              "      <td>0</td>\n",
              "      <td>0</td>\n",
              "      <td>1</td>\n",
              "      <td>...</td>\n",
              "      <td>0</td>\n",
              "      <td>1</td>\n",
              "      <td>1</td>\n",
              "      <td>0</td>\n",
              "      <td>1</td>\n",
              "      <td>0</td>\n",
              "      <td>1</td>\n",
              "      <td>0</td>\n",
              "      <td>1</td>\n",
              "      <td>0</td>\n",
              "    </tr>\n",
              "    <tr>\n",
              "      <th>5</th>\n",
              "      <td>0</td>\n",
              "      <td>1</td>\n",
              "      <td>1</td>\n",
              "      <td>0</td>\n",
              "      <td>1</td>\n",
              "      <td>0</td>\n",
              "      <td>1</td>\n",
              "      <td>0</td>\n",
              "      <td>1</td>\n",
              "      <td>0</td>\n",
              "      <td>...</td>\n",
              "      <td>0</td>\n",
              "      <td>1</td>\n",
              "      <td>0</td>\n",
              "      <td>1</td>\n",
              "      <td>1</td>\n",
              "      <td>0</td>\n",
              "      <td>1</td>\n",
              "      <td>0</td>\n",
              "      <td>1</td>\n",
              "      <td>0</td>\n",
              "    </tr>\n",
              "  </tbody>\n",
              "</table>\n",
              "<p>5 rows × 554 columns</p>\n",
              "</div>\n",
              "      <button class=\"colab-df-convert\" onclick=\"convertToInteractive('df-1c79b9c4-7e6c-477d-8bad-06480e5f5ff5')\"\n",
              "              title=\"Convert this dataframe to an interactive table.\"\n",
              "              style=\"display:none;\">\n",
              "        \n",
              "  <svg xmlns=\"http://www.w3.org/2000/svg\" height=\"24px\"viewBox=\"0 0 24 24\"\n",
              "       width=\"24px\">\n",
              "    <path d=\"M0 0h24v24H0V0z\" fill=\"none\"/>\n",
              "    <path d=\"M18.56 5.44l.94 2.06.94-2.06 2.06-.94-2.06-.94-.94-2.06-.94 2.06-2.06.94zm-11 1L8.5 8.5l.94-2.06 2.06-.94-2.06-.94L8.5 2.5l-.94 2.06-2.06.94zm10 10l.94 2.06.94-2.06 2.06-.94-2.06-.94-.94-2.06-.94 2.06-2.06.94z\"/><path d=\"M17.41 7.96l-1.37-1.37c-.4-.4-.92-.59-1.43-.59-.52 0-1.04.2-1.43.59L10.3 9.45l-7.72 7.72c-.78.78-.78 2.05 0 2.83L4 21.41c.39.39.9.59 1.41.59.51 0 1.02-.2 1.41-.59l7.78-7.78 2.81-2.81c.8-.78.8-2.07 0-2.86zM5.41 20L4 18.59l7.72-7.72 1.47 1.35L5.41 20z\"/>\n",
              "  </svg>\n",
              "      </button>\n",
              "      \n",
              "  <style>\n",
              "    .colab-df-container {\n",
              "      display:flex;\n",
              "      flex-wrap:wrap;\n",
              "      gap: 12px;\n",
              "    }\n",
              "\n",
              "    .colab-df-convert {\n",
              "      background-color: #E8F0FE;\n",
              "      border: none;\n",
              "      border-radius: 50%;\n",
              "      cursor: pointer;\n",
              "      display: none;\n",
              "      fill: #1967D2;\n",
              "      height: 32px;\n",
              "      padding: 0 0 0 0;\n",
              "      width: 32px;\n",
              "    }\n",
              "\n",
              "    .colab-df-convert:hover {\n",
              "      background-color: #E2EBFA;\n",
              "      box-shadow: 0px 1px 2px rgba(60, 64, 67, 0.3), 0px 1px 3px 1px rgba(60, 64, 67, 0.15);\n",
              "      fill: #174EA6;\n",
              "    }\n",
              "\n",
              "    [theme=dark] .colab-df-convert {\n",
              "      background-color: #3B4455;\n",
              "      fill: #D2E3FC;\n",
              "    }\n",
              "\n",
              "    [theme=dark] .colab-df-convert:hover {\n",
              "      background-color: #434B5C;\n",
              "      box-shadow: 0px 1px 3px 1px rgba(0, 0, 0, 0.15);\n",
              "      filter: drop-shadow(0px 1px 2px rgba(0, 0, 0, 0.3));\n",
              "      fill: #FFFFFF;\n",
              "    }\n",
              "  </style>\n",
              "\n",
              "      <script>\n",
              "        const buttonEl =\n",
              "          document.querySelector('#df-1c79b9c4-7e6c-477d-8bad-06480e5f5ff5 button.colab-df-convert');\n",
              "        buttonEl.style.display =\n",
              "          google.colab.kernel.accessAllowed ? 'block' : 'none';\n",
              "\n",
              "        async function convertToInteractive(key) {\n",
              "          const element = document.querySelector('#df-1c79b9c4-7e6c-477d-8bad-06480e5f5ff5');\n",
              "          const dataTable =\n",
              "            await google.colab.kernel.invokeFunction('convertToInteractive',\n",
              "                                                     [key], {});\n",
              "          if (!dataTable) return;\n",
              "\n",
              "          const docLinkHtml = 'Like what you see? Visit the ' +\n",
              "            '<a target=\"_blank\" href=https://colab.research.google.com/notebooks/data_table.ipynb>data table notebook</a>'\n",
              "            + ' to learn more about interactive tables.';\n",
              "          element.innerHTML = '';\n",
              "          dataTable['output_type'] = 'display_data';\n",
              "          await google.colab.output.renderOutput(dataTable, element);\n",
              "          const docLink = document.createElement('div');\n",
              "          docLink.innerHTML = docLinkHtml;\n",
              "          element.appendChild(docLink);\n",
              "        }\n",
              "      </script>\n",
              "    </div>\n",
              "  </div>\n",
              "  "
            ]
          },
          "metadata": {},
          "execution_count": 5
        }
      ],
      "source": [
        "MCQ_Data = df[MCQ_Question]\n",
        "MCQ_Data_raw = MCQ_Data.drop(index = 0) #remove the first line, i.e, the question from the list.\n",
        "MCQ_Data_raw.fillna(0, inplace = True)\n",
        "MCQ_Data_raw.head()\n",
        "\n",
        "# Encode MCQ_Data_Raw with 1 representing and answer and 0 representing a NaN\n",
        "MCQ_Data_raw_Encoded = pd.get_dummies(MCQ_Data_raw) #remove the first line, i.e, the question from the list.\n",
        "MCQ_Data_raw_Encoded.head()\n"
      ]
    },
    {
      "cell_type": "code",
      "source": [
        "# Work with Written Questions\n",
        "\n",
        "Written_Question_Data = df[Written_Question] #Look for empty answers in Written questions\n",
        "Written_Question_Data_raw = Written_Question_Data.drop(index = 0)\n",
        "Written_Question_Data_raw.isna().sum() \n",
        "\n",
        "#if column has more than 50% of missing answers then it should be dropped as it is not possible to fill this data without creating bias in the results.\n",
        "for i in Written_Question_Data_raw.columns:\n",
        "  prop = (Written_Question_Data_raw[i].isna().sum())/len(Written_Question_Data_raw[i])*100\n",
        "  if prop >=50:\n",
        "    Written_Question_Data_raw = Written_Question_Data_raw.drop(columns = i )\n",
        "\n",
        "Written_Question_Data_raw.isna().sum()"
      ],
      "metadata": {
        "colab": {
          "base_uri": "https://localhost:8080/"
        },
        "id": "jjbbNUUeAQvC",
        "outputId": "679dbdb5-4f03-4cff-9cda-b0f2a23445fc"
      },
      "execution_count": null,
      "outputs": [
        {
          "output_type": "execute_result",
          "data": {
            "text/plain": [
              "Duration (in seconds)       0\n",
              "Q2                          0\n",
              "Q3                          0\n",
              "Q4                          0\n",
              "Q5                          0\n",
              "Q8                          0\n",
              "Q9                       2941\n",
              "Q11                         0\n",
              "Q16                       684\n",
              "Q23                         0\n",
              "Q24                         0\n",
              "Q25                         0\n",
              "Q26                         0\n",
              "Q27                         0\n",
              "Q29                         0\n",
              "Q30                        50\n",
              "Q43                      3723\n",
              "dtype: int64"
            ]
          },
          "metadata": {},
          "execution_count": 6
        }
      ]
    },
    {
      "cell_type": "code",
      "source": [
        "print('The answers for written question Q9 are: {}'.format(Written_Question_Data_raw['Q9'].unique()))\n",
        "print('\\nThe answers for written question Q16 are: {}'.format(Written_Question_Data_raw['Q16'].unique()))\n",
        "print('\\nThe answers for written question Q30 are: {}'.format(Written_Question_Data_raw['Q30'].unique()))\n",
        "print('\\nThe answers for the written question Q43 are: {}'.format(Written_Question_Data_raw['Q43'].unique()))"
      ],
      "metadata": {
        "colab": {
          "base_uri": "https://localhost:8080/"
        },
        "id": "zoUB9sRqAeJX",
        "outputId": "a6c9dce8-0594-45b2-a399-df64351ecefb"
      },
      "execution_count": null,
      "outputs": [
        {
          "output_type": "stream",
          "name": "stdout",
          "text": [
            "The answers for written question Q9 are: [nan 'Yes' 'No']\n",
            "\n",
            "The answers for written question Q16 are: ['1-2 years' '4-5 years' '5-10 years' '2-3 years' 'Under 1 year'\n",
            " '3-4 years' '10-20 years' 'I do not use machine learning methods' nan]\n",
            "\n",
            "The answers for written question Q30 are: ['$1000-$9,999' '$0 ($USD)' '$100-$999' '$100,000 or more ($USD)' '$1-$99'\n",
            " '$10,000-$99,999' nan]\n",
            "\n",
            "The answers for the written question Q43 are: ['2-5 times' nan 'Never' 'More than 25 times' 'Once' '6-25 times']\n"
          ]
        }
      ]
    },
    {
      "cell_type": "code",
      "source": [
        "# for Q9 and Q43, a relatively good amount of data is empty\n",
        "prop_Q9 = (Written_Question_Data_raw['Q9'].isna().sum())/len(Written_Question_Data_raw['Q9'])*100\n",
        "prop_Q43 = (Written_Question_Data_raw['Q43'].isna().sum())/len(Written_Question_Data_raw['Q43'])*100\n",
        "\n",
        "print('The proportion of empty data in Q9 and Q43 are: \\nQ9:{}\\nQ43:{}'.format(prop_Q9,prop_Q43))\n",
        "\n",
        "# We can not randomly assigin a answer to those missing values as it would affect the accuracy of our machine learning algorithm, \n",
        "#Therefore we would assing a value of 0 for empty answers. \n",
        "Written_Question_Data_raw['Q9'].fillna(0,inplace = True)\n",
        "Written_Question_Data_raw['Q43'].fillna(0,inplace = np.True_)\n",
        "Written_Question_Data_raw.isnull().sum() #check for updated written question dataset\n"
      ],
      "metadata": {
        "id": "3NuQVWEJZj_K",
        "colab": {
          "base_uri": "https://localhost:8080/"
        },
        "outputId": "b2090476-7b79-466a-ae35-f13ea7836d0f"
      },
      "execution_count": null,
      "outputs": [
        {
          "output_type": "stream",
          "name": "stdout",
          "text": [
            "The proportion of empty data in Q9 and Q43 are: \n",
            "Q9:0.0\n",
            "Q43:0.0\n",
            "\n",
            "\n"
          ]
        },
        {
          "output_type": "execute_result",
          "data": {
            "text/plain": [
              "Duration (in seconds)      0\n",
              "Q2                         0\n",
              "Q3                         0\n",
              "Q4                         0\n",
              "Q5                         0\n",
              "Q8                         0\n",
              "Q9                         0\n",
              "Q11                        0\n",
              "Q16                      684\n",
              "Q23                        0\n",
              "Q24                        0\n",
              "Q25                        0\n",
              "Q26                        0\n",
              "Q27                        0\n",
              "Q29                        0\n",
              "Q30                       50\n",
              "Q43                        0\n",
              "dtype: int64"
            ]
          },
          "metadata": {},
          "execution_count": 9
        }
      ]
    },
    {
      "cell_type": "code",
      "source": [
        "df1 = df.drop(index = 0) # drop the first row which includes the question \n",
        "df1.head()"
      ],
      "metadata": {
        "id": "eT75fZOphRTw",
        "colab": {
          "base_uri": "https://localhost:8080/",
          "height": 820
        },
        "outputId": "78b00ac5-20a7-4662-9241-e9668dd88c6e"
      },
      "execution_count": null,
      "outputs": [
        {
          "output_type": "execute_result",
          "data": {
            "text/plain": [
              "  Duration (in seconds)     Q2   Q3                        Q4  Q5      Q6_1  \\\n",
              "1                   851  55-59  Man                    France  No  Coursera   \n",
              "2                   501  30-34  Man                   Germany  No  Coursera   \n",
              "3                   787    70+  Man                 Australia  No  Coursera   \n",
              "4                  1132  40-44  Man  United States of America  No  Coursera   \n",
              "5                   679  40-44  Man  United States of America  No  Coursera   \n",
              "\n",
              "  Q6_2                  Q6_3 Q6_4     Q6_5  ...  \\\n",
              "1  NaN  Kaggle Learn Courses  NaN      NaN  ...   \n",
              "2  edX                   NaN  NaN      NaN  ...   \n",
              "3  NaN  Kaggle Learn Courses  NaN      NaN  ...   \n",
              "4  NaN  Kaggle Learn Courses  NaN  Fast.ai  ...   \n",
              "5  NaN                   NaN  NaN      NaN  ...   \n",
              "\n",
              "                                               Q44_5  \\\n",
              "1  Course Forums (forums.fast.ai, Coursera forums...   \n",
              "2                                                NaN   \n",
              "3                                                NaN   \n",
              "4                                                NaN   \n",
              "5                                                NaN   \n",
              "\n",
              "                                               Q44_6  \\\n",
              "1                                                NaN   \n",
              "2  YouTube (Kaggle YouTube, Cloud AI Adventures, ...   \n",
              "3                                                NaN   \n",
              "4                                                NaN   \n",
              "5                                                NaN   \n",
              "\n",
              "                                               Q44_7  \\\n",
              "1                                                NaN   \n",
              "2                                                NaN   \n",
              "3  Podcasts (Chai Time Data Science, O’Reilly Dat...   \n",
              "4  Podcasts (Chai Time Data Science, O’Reilly Dat...   \n",
              "5  Podcasts (Chai Time Data Science, O’Reilly Dat...   \n",
              "\n",
              "                                               Q44_8  \\\n",
              "1  Blogs (Towards Data Science, Analytics Vidhya,...   \n",
              "2  Blogs (Towards Data Science, Analytics Vidhya,...   \n",
              "3                                                NaN   \n",
              "4  Blogs (Towards Data Science, Analytics Vidhya,...   \n",
              "5  Blogs (Towards Data Science, Analytics Vidhya,...   \n",
              "\n",
              "                                               Q44_9 Q44_10 Q44_11 Q44_12  \\\n",
              "1                                                NaN    NaN    NaN    NaN   \n",
              "2                                                NaN    NaN    NaN    NaN   \n",
              "3                                                NaN    NaN    NaN    NaN   \n",
              "4                                                NaN    NaN    NaN    NaN   \n",
              "5  Journal Publications (peer-reviewed journals, ...    NaN    NaN    NaN   \n",
              "\n",
              "  Q29_Encoded      Q29_buckets  \n",
              "1         2.0    20,000-29,999  \n",
              "2        10.0  100,000-124,999  \n",
              "3        10.0  100,000-124,999  \n",
              "4        13.0  200,000-299,999  \n",
              "5        13.0  200,000-299,999  \n",
              "\n",
              "[5 rows x 298 columns]"
            ],
            "text/html": [
              "\n",
              "  <div id=\"df-2ee32824-4d78-45ba-8225-376872f01745\">\n",
              "    <div class=\"colab-df-container\">\n",
              "      <div>\n",
              "<style scoped>\n",
              "    .dataframe tbody tr th:only-of-type {\n",
              "        vertical-align: middle;\n",
              "    }\n",
              "\n",
              "    .dataframe tbody tr th {\n",
              "        vertical-align: top;\n",
              "    }\n",
              "\n",
              "    .dataframe thead th {\n",
              "        text-align: right;\n",
              "    }\n",
              "</style>\n",
              "<table border=\"1\" class=\"dataframe\">\n",
              "  <thead>\n",
              "    <tr style=\"text-align: right;\">\n",
              "      <th></th>\n",
              "      <th>Duration (in seconds)</th>\n",
              "      <th>Q2</th>\n",
              "      <th>Q3</th>\n",
              "      <th>Q4</th>\n",
              "      <th>Q5</th>\n",
              "      <th>Q6_1</th>\n",
              "      <th>Q6_2</th>\n",
              "      <th>Q6_3</th>\n",
              "      <th>Q6_4</th>\n",
              "      <th>Q6_5</th>\n",
              "      <th>...</th>\n",
              "      <th>Q44_5</th>\n",
              "      <th>Q44_6</th>\n",
              "      <th>Q44_7</th>\n",
              "      <th>Q44_8</th>\n",
              "      <th>Q44_9</th>\n",
              "      <th>Q44_10</th>\n",
              "      <th>Q44_11</th>\n",
              "      <th>Q44_12</th>\n",
              "      <th>Q29_Encoded</th>\n",
              "      <th>Q29_buckets</th>\n",
              "    </tr>\n",
              "  </thead>\n",
              "  <tbody>\n",
              "    <tr>\n",
              "      <th>1</th>\n",
              "      <td>851</td>\n",
              "      <td>55-59</td>\n",
              "      <td>Man</td>\n",
              "      <td>France</td>\n",
              "      <td>No</td>\n",
              "      <td>Coursera</td>\n",
              "      <td>NaN</td>\n",
              "      <td>Kaggle Learn Courses</td>\n",
              "      <td>NaN</td>\n",
              "      <td>NaN</td>\n",
              "      <td>...</td>\n",
              "      <td>Course Forums (forums.fast.ai, Coursera forums...</td>\n",
              "      <td>NaN</td>\n",
              "      <td>NaN</td>\n",
              "      <td>Blogs (Towards Data Science, Analytics Vidhya,...</td>\n",
              "      <td>NaN</td>\n",
              "      <td>NaN</td>\n",
              "      <td>NaN</td>\n",
              "      <td>NaN</td>\n",
              "      <td>2.0</td>\n",
              "      <td>20,000-29,999</td>\n",
              "    </tr>\n",
              "    <tr>\n",
              "      <th>2</th>\n",
              "      <td>501</td>\n",
              "      <td>30-34</td>\n",
              "      <td>Man</td>\n",
              "      <td>Germany</td>\n",
              "      <td>No</td>\n",
              "      <td>Coursera</td>\n",
              "      <td>edX</td>\n",
              "      <td>NaN</td>\n",
              "      <td>NaN</td>\n",
              "      <td>NaN</td>\n",
              "      <td>...</td>\n",
              "      <td>NaN</td>\n",
              "      <td>YouTube (Kaggle YouTube, Cloud AI Adventures, ...</td>\n",
              "      <td>NaN</td>\n",
              "      <td>Blogs (Towards Data Science, Analytics Vidhya,...</td>\n",
              "      <td>NaN</td>\n",
              "      <td>NaN</td>\n",
              "      <td>NaN</td>\n",
              "      <td>NaN</td>\n",
              "      <td>10.0</td>\n",
              "      <td>100,000-124,999</td>\n",
              "    </tr>\n",
              "    <tr>\n",
              "      <th>3</th>\n",
              "      <td>787</td>\n",
              "      <td>70+</td>\n",
              "      <td>Man</td>\n",
              "      <td>Australia</td>\n",
              "      <td>No</td>\n",
              "      <td>Coursera</td>\n",
              "      <td>NaN</td>\n",
              "      <td>Kaggle Learn Courses</td>\n",
              "      <td>NaN</td>\n",
              "      <td>NaN</td>\n",
              "      <td>...</td>\n",
              "      <td>NaN</td>\n",
              "      <td>NaN</td>\n",
              "      <td>Podcasts (Chai Time Data Science, O’Reilly Dat...</td>\n",
              "      <td>NaN</td>\n",
              "      <td>NaN</td>\n",
              "      <td>NaN</td>\n",
              "      <td>NaN</td>\n",
              "      <td>NaN</td>\n",
              "      <td>10.0</td>\n",
              "      <td>100,000-124,999</td>\n",
              "    </tr>\n",
              "    <tr>\n",
              "      <th>4</th>\n",
              "      <td>1132</td>\n",
              "      <td>40-44</td>\n",
              "      <td>Man</td>\n",
              "      <td>United States of America</td>\n",
              "      <td>No</td>\n",
              "      <td>Coursera</td>\n",
              "      <td>NaN</td>\n",
              "      <td>Kaggle Learn Courses</td>\n",
              "      <td>NaN</td>\n",
              "      <td>Fast.ai</td>\n",
              "      <td>...</td>\n",
              "      <td>NaN</td>\n",
              "      <td>NaN</td>\n",
              "      <td>Podcasts (Chai Time Data Science, O’Reilly Dat...</td>\n",
              "      <td>Blogs (Towards Data Science, Analytics Vidhya,...</td>\n",
              "      <td>NaN</td>\n",
              "      <td>NaN</td>\n",
              "      <td>NaN</td>\n",
              "      <td>NaN</td>\n",
              "      <td>13.0</td>\n",
              "      <td>200,000-299,999</td>\n",
              "    </tr>\n",
              "    <tr>\n",
              "      <th>5</th>\n",
              "      <td>679</td>\n",
              "      <td>40-44</td>\n",
              "      <td>Man</td>\n",
              "      <td>United States of America</td>\n",
              "      <td>No</td>\n",
              "      <td>Coursera</td>\n",
              "      <td>NaN</td>\n",
              "      <td>NaN</td>\n",
              "      <td>NaN</td>\n",
              "      <td>NaN</td>\n",
              "      <td>...</td>\n",
              "      <td>NaN</td>\n",
              "      <td>NaN</td>\n",
              "      <td>Podcasts (Chai Time Data Science, O’Reilly Dat...</td>\n",
              "      <td>Blogs (Towards Data Science, Analytics Vidhya,...</td>\n",
              "      <td>Journal Publications (peer-reviewed journals, ...</td>\n",
              "      <td>NaN</td>\n",
              "      <td>NaN</td>\n",
              "      <td>NaN</td>\n",
              "      <td>13.0</td>\n",
              "      <td>200,000-299,999</td>\n",
              "    </tr>\n",
              "  </tbody>\n",
              "</table>\n",
              "<p>5 rows × 298 columns</p>\n",
              "</div>\n",
              "      <button class=\"colab-df-convert\" onclick=\"convertToInteractive('df-2ee32824-4d78-45ba-8225-376872f01745')\"\n",
              "              title=\"Convert this dataframe to an interactive table.\"\n",
              "              style=\"display:none;\">\n",
              "        \n",
              "  <svg xmlns=\"http://www.w3.org/2000/svg\" height=\"24px\"viewBox=\"0 0 24 24\"\n",
              "       width=\"24px\">\n",
              "    <path d=\"M0 0h24v24H0V0z\" fill=\"none\"/>\n",
              "    <path d=\"M18.56 5.44l.94 2.06.94-2.06 2.06-.94-2.06-.94-.94-2.06-.94 2.06-2.06.94zm-11 1L8.5 8.5l.94-2.06 2.06-.94-2.06-.94L8.5 2.5l-.94 2.06-2.06.94zm10 10l.94 2.06.94-2.06 2.06-.94-2.06-.94-.94-2.06-.94 2.06-2.06.94z\"/><path d=\"M17.41 7.96l-1.37-1.37c-.4-.4-.92-.59-1.43-.59-.52 0-1.04.2-1.43.59L10.3 9.45l-7.72 7.72c-.78.78-.78 2.05 0 2.83L4 21.41c.39.39.9.59 1.41.59.51 0 1.02-.2 1.41-.59l7.78-7.78 2.81-2.81c.8-.78.8-2.07 0-2.86zM5.41 20L4 18.59l7.72-7.72 1.47 1.35L5.41 20z\"/>\n",
              "  </svg>\n",
              "      </button>\n",
              "      \n",
              "  <style>\n",
              "    .colab-df-container {\n",
              "      display:flex;\n",
              "      flex-wrap:wrap;\n",
              "      gap: 12px;\n",
              "    }\n",
              "\n",
              "    .colab-df-convert {\n",
              "      background-color: #E8F0FE;\n",
              "      border: none;\n",
              "      border-radius: 50%;\n",
              "      cursor: pointer;\n",
              "      display: none;\n",
              "      fill: #1967D2;\n",
              "      height: 32px;\n",
              "      padding: 0 0 0 0;\n",
              "      width: 32px;\n",
              "    }\n",
              "\n",
              "    .colab-df-convert:hover {\n",
              "      background-color: #E2EBFA;\n",
              "      box-shadow: 0px 1px 2px rgba(60, 64, 67, 0.3), 0px 1px 3px 1px rgba(60, 64, 67, 0.15);\n",
              "      fill: #174EA6;\n",
              "    }\n",
              "\n",
              "    [theme=dark] .colab-df-convert {\n",
              "      background-color: #3B4455;\n",
              "      fill: #D2E3FC;\n",
              "    }\n",
              "\n",
              "    [theme=dark] .colab-df-convert:hover {\n",
              "      background-color: #434B5C;\n",
              "      box-shadow: 0px 1px 3px 1px rgba(0, 0, 0, 0.15);\n",
              "      filter: drop-shadow(0px 1px 2px rgba(0, 0, 0, 0.3));\n",
              "      fill: #FFFFFF;\n",
              "    }\n",
              "  </style>\n",
              "\n",
              "      <script>\n",
              "        const buttonEl =\n",
              "          document.querySelector('#df-2ee32824-4d78-45ba-8225-376872f01745 button.colab-df-convert');\n",
              "        buttonEl.style.display =\n",
              "          google.colab.kernel.accessAllowed ? 'block' : 'none';\n",
              "\n",
              "        async function convertToInteractive(key) {\n",
              "          const element = document.querySelector('#df-2ee32824-4d78-45ba-8225-376872f01745');\n",
              "          const dataTable =\n",
              "            await google.colab.kernel.invokeFunction('convertToInteractive',\n",
              "                                                     [key], {});\n",
              "          if (!dataTable) return;\n",
              "\n",
              "          const docLinkHtml = 'Like what you see? Visit the ' +\n",
              "            '<a target=\"_blank\" href=https://colab.research.google.com/notebooks/data_table.ipynb>data table notebook</a>'\n",
              "            + ' to learn more about interactive tables.';\n",
              "          element.innerHTML = '';\n",
              "          dataTable['output_type'] = 'display_data';\n",
              "          await google.colab.output.renderOutput(dataTable, element);\n",
              "          const docLink = document.createElement('div');\n",
              "          docLink.innerHTML = docLinkHtml;\n",
              "          element.appendChild(docLink);\n",
              "        }\n",
              "      </script>\n",
              "    </div>\n",
              "  </div>\n",
              "  "
            ]
          },
          "metadata": {},
          "execution_count": 10
        }
      ]
    },
    {
      "cell_type": "code",
      "source": [
        "# 2 remaining columns are to be analyzed, Q16 and Q30\n",
        "\n",
        "Written_Question_Data_raw['Q16'].unique() \n",
        "# Look factors that influence this answer the most, we will look at age, years of experience in coding, job title and education and gender\n",
        "# plot distribution of those features with respect to our question of interest to visualize factors that affect the distribution of Q['16'] the most\n",
        "df = df.drop(index = 0)\n",
        "fig,axes=plt.subplots(5,1)\n",
        "ML_Age = (df['Q16'].groupby(df['Q2'],axis=0).value_counts()).unstack()\n",
        "ML_Experience=(df['Q16'].groupby(df['Q11'],axis=0).value_counts()).unstack()\n",
        "ML_Job=(df['Q16'].groupby(df['Q23'],axis=0).value_counts()).unstack()\n",
        "ML_Education=(df['Q16'].groupby(df['Q8'],axis=0).value_counts()).unstack()\n",
        "ML_Gender=(df['Q16'].groupby(df['Q3'],axis=0).value_counts()).unstack()\n",
        "ML_Age.plot.bar(ax=axes[0],figsize=(20,30),rot=0,xlabel='Age',ylabel='Frequency')\n",
        "ML_Experience.plot.bar(ax=axes[1],figsize=(20,30),rot=0,xlabel='Coding Experience',ylabel='Frequency')\n",
        "ML_Job.plot.bar(ax=axes[2],figsize=(20,30),rot=5,xlabel='Job title',ylabel='Frequency')\n",
        "ML_Education.plot.bar(ax=axes[3],figsize=(20,30),rot=0,xlabel='Education',ylabel='Frequency')\n",
        "ML_Gender.plot.bar(ax=axes[4],figsize=(20,30),rot=0,xlabel='Gender',ylabel='Frequency')\n"
      ],
      "metadata": {
        "colab": {
          "base_uri": "https://localhost:8080/",
          "height": 1000
        },
        "id": "apYEPcc7bd3s",
        "outputId": "dcf61362-7273-4582-e0ee-37de545c9b0c"
      },
      "execution_count": null,
      "outputs": [
        {
          "output_type": "execute_result",
          "data": {
            "text/plain": [
              "<matplotlib.axes._subplots.AxesSubplot at 0x7f6ef26a4990>"
            ]
          },
          "metadata": {},
          "execution_count": 11
        },
        {
          "output_type": "display_data",
          "data": {
            "text/plain": [
              "<Figure size 1440x2160 with 5 Axes>"
            ],
            "image/png": "[encoded data removed]"
          },
          "metadata": {
            "needs_background": "light"
          }
        }
      ]
    },
    {
      "cell_type": "markdown",
      "source": [
        "**Observation**: gender, occupation and level of education affect the data the most. To be validated using a covarirance matrix implemented in subsequent section.\n"
      ],
      "metadata": {
        "id": "8YhjxkH7wO84"
      }
    },
    {
      "cell_type": "code",
      "source": [
        "df.at[((df['Q23']=='Data Analyst (Business, Marketing, Financial, Quantitative, etc)')|(df['Q23']=='Data Scientist')|(df['Q23']=='Software Engineer'))&((df['Q8']=='Master’s degree')|(df['Q8']=='Bachelor’s degree'))&df['Q16'].isnull(),'Q16']='1-2 years'\n",
        "df.at[((df['Q11']=='10-20 years')|(df['Q11']=='5-10 years')|(df['Q11']=='20+ years'))&(df['Q23']=='Data Scientist')&df['Q16'].isnull(),'Q16']='5-10 years'\n",
        "df.at[((df['Q2']=='22-24')|(df['Q2']=='25-29')|(df['Q2']=='30-34')|(df['Q2']=='35-39')|(df['Q2']=='40-44'))&((df['Q11']=='< 1 years')|(df['Q11']=='1-3 years'))&df['Q16'].isnull(),'Q16']='Under 1 year'\n",
        "df.at[((df['Q23']=='Engineer (non-software)')|(df['Q23']=='Other')|(df['Q23']=='Teacher / professor'))&((df['Q8']=='Master’s degree')|(df['Q8']=='Bachelor’s degree'))&df['Q16'].isnull(),'Q16']='Under 1 year'\n",
        "df['Q16'].isnull().value_counts()"
      ],
      "metadata": {
        "colab": {
          "base_uri": "https://localhost:8080/"
        },
        "id": "CGGX2NsQ09R2",
        "outputId": "8193107a-8c68-417b-b124-4cc59ed4a43e"
      },
      "execution_count": null,
      "outputs": [
        {
          "output_type": "execute_result",
          "data": {
            "text/plain": [
              "False    7802\n",
              "True      334\n",
              "Name: Q16, dtype: int64"
            ]
          },
          "metadata": {},
          "execution_count": 10
        }
      ]
    },
    {
      "cell_type": "markdown",
      "source": [
        "**Note**: We were able to reduce the number of unanswered questions from 684 to 334 with logical conclusions made from the graphs shown above, the remaining nan values would be filled with a 0 as no logical conclusion allowed us to fill those missing answers "
      ],
      "metadata": {
        "id": "ToMwIKwztuma"
      }
    },
    {
      "cell_type": "code",
      "source": [
        "df['Q16'].fillna(0, inplace = True)\n",
        "df['Q16'].unique()\n",
        "Written_Question_Data_raw['Q16'] = df['Q16']\n",
        "Written_Question_Data_raw['Q16'].isnull().sum()"
      ],
      "metadata": {
        "colab": {
          "base_uri": "https://localhost:8080/"
        },
        "id": "hnI4tOS4uL7v",
        "outputId": "67424efc-07d1-4b44-c723-abc4ed9815fa"
      },
      "execution_count": null,
      "outputs": [
        {
          "output_type": "execute_result",
          "data": {
            "text/plain": [
              "0"
            ]
          },
          "metadata": {},
          "execution_count": 12
        }
      ]
    },
    {
      "cell_type": "markdown",
      "source": [
        "Similar approch is adopted for the 50 missing values in Q30"
      ],
      "metadata": {
        "id": "jRgoSm3bvIrb"
      }
    },
    {
      "cell_type": "code",
      "source": [
        "# Looking for unique answers in Q30\n",
        "df['Q30'].unique()"
      ],
      "metadata": {
        "colab": {
          "base_uri": "https://localhost:8080/"
        },
        "id": "W3LzVol3vbF0",
        "outputId": "d758e5c0-df07-4d23-b25c-2e2df3cd4eb5"
      },
      "execution_count": null,
      "outputs": [
        {
          "output_type": "execute_result",
          "data": {
            "text/plain": [
              "array(['$1000-$9,999', '$0 ($USD)', '$100-$999',\n",
              "       '$100,000 or more ($USD)', '$1-$99', '$10,000-$99,999', nan],\n",
              "      dtype=object)"
            ]
          },
          "metadata": {},
          "execution_count": 13
        }
      ]
    },
    {
      "cell_type": "code",
      "source": [
        "#below we are plotting our question of interest Q['30'] grouped by features such as age, experience etc... to see the distribution and effect of each \n",
        "#feature on our question of interest in order to know how to possibly deal with missing data.\n",
        "fig,axes=plt.subplots(5,1)\n",
        "Spend_Age = (df['Q30'].groupby(df['Q2'],axis=0).value_counts()).unstack()\n",
        "Spend_Experience=(df['Q30'].groupby(df['Q11'],axis=0).value_counts()).unstack()\n",
        "Spend_Job=(df['Q30'].groupby(df['Q23'],axis=0).value_counts()).unstack()\n",
        "Spend_Education=(df['Q30'].groupby(df['Q8'],axis=0).value_counts()).unstack()\n",
        "Spend_Gender=(df['Q30'].groupby(df['Q3'],axis=0).value_counts()).unstack()\n",
        "Spend_Age.plot.bar(ax=axes[0],figsize=(20,30),rot=0,xlabel='Age',ylabel='Frequency')\n",
        "Spend_Experience.plot.bar(ax=axes[1],figsize=(20,30),rot=0,xlabel='Coding Experience',ylabel='Frequency')\n",
        "Spend_Job.plot.bar(ax=axes[2],figsize=(20,30),rot=5,xlabel='Job title',ylabel='Frequency')\n",
        "Spend_Education.plot.bar(ax=axes[3],figsize=(20,30),rot=0,xlabel='Education',ylabel='Frequency')\n",
        "Spend_Gender.plot.bar(ax=axes[4],figsize=(20,30),rot=0,xlabel='Gender',ylabel='Frequency')\n"
      ],
      "metadata": {
        "colab": {
          "base_uri": "https://localhost:8080/",
          "height": 1000
        },
        "id": "UFl8dFRfvWhK",
        "outputId": "f28e256f-0cac-4a0c-8955-b256178a7531"
      },
      "execution_count": null,
      "outputs": [
        {
          "output_type": "execute_result",
          "data": {
            "text/plain": [
              "<matplotlib.axes._subplots.AxesSubplot at 0x7f6ef1facd90>"
            ]
          },
          "metadata": {},
          "execution_count": 14
        },
        {
          "output_type": "display_data",
          "data": {
            "text/plain": [
              "<Figure size 1440x2160 with 5 Axes>"
            ],
            "image/png": "[encoded data removed]"
          },
          "metadata": {
            "needs_background": "light"
          }
        }
      ]
    },
    {
      "cell_type": "code",
      "source": [
        "df.at[((df['Q11']==\"1-3 years\")|(df['Q11']==\"3-5 years\")|(df['Q11'] == \"5-10 years\"))&((df['Q23']==\"Data Scientist\")|(df['Q23']==\"Data Analyst (Business, Marketing, Financial, Quantitative, etc)\"))&df['Q23'].isnull(),'Q30'] = '$100-$999'\n",
        "df.at[((df['Q8']==\"Bachelor’s degree\")|(df['Q8']==\"Master’s degree\")|(df['Q8']==\"Doctoral degree\"))&((df['Q23']==\"Data Scientist\")|(df['Q8']=='Machine Learning/ MLops Enginee'))&df['Q30'].isnull(),'Q30'] = '$1000-$9,999'\n",
        "df['Q30'].isnull().sum()"
      ],
      "metadata": {
        "colab": {
          "base_uri": "https://localhost:8080/"
        },
        "id": "UbSkIpUTwUwb",
        "outputId": "11189805-fc98-4e15-eb1f-5831e6479b3b"
      },
      "execution_count": null,
      "outputs": [
        {
          "output_type": "execute_result",
          "data": {
            "text/plain": [
              "43"
            ]
          },
          "metadata": {},
          "execution_count": 14
        }
      ]
    },
    {
      "cell_type": "markdown",
      "source": [
        "Similarly, we were able to reduce the number from 50 to 43 based on logical assumptions, the remaining Nans will be filled by a zero"
      ],
      "metadata": {
        "id": "XlqbFK4M0IU7"
      }
    },
    {
      "cell_type": "code",
      "source": [
        "df['Q30'].fillna(0,inplace = True)\n",
        "df['Q30'].unique()\n",
        "Written_Question_Data_raw['Q30'] = df['Q30'] # replace computed values in Written question data array \n",
        "Written_Question_Data_raw['Q30'].isnull().sum()"
      ],
      "metadata": {
        "colab": {
          "base_uri": "https://localhost:8080/"
        },
        "id": "vS5nW3Ki3RDA",
        "outputId": "6cf21e8a-1f04-4d3f-ee9a-815d3426a753"
      },
      "execution_count": null,
      "outputs": [
        {
          "output_type": "execute_result",
          "data": {
            "text/plain": [
              "0"
            ]
          },
          "metadata": {},
          "execution_count": 15
        }
      ]
    },
    {
      "cell_type": "code",
      "source": [
        "Written_Question_Data_raw.columns"
      ],
      "metadata": {
        "colab": {
          "base_uri": "https://localhost:8080/"
        },
        "id": "ZXbGqMdz8aM4",
        "outputId": "657a37a7-eb65-4835-a96b-50de24aea2ff"
      },
      "execution_count": null,
      "outputs": [
        {
          "output_type": "execute_result",
          "data": {
            "text/plain": [
              "Index(['Duration (in seconds)', 'Q2', 'Q3', 'Q4', 'Q5', 'Q8', 'Q9', 'Q11',\n",
              "       'Q16', 'Q23', 'Q24', 'Q25', 'Q26', 'Q27', 'Q29', 'Q30', 'Q43'],\n",
              "      dtype='object')"
            ]
          },
          "metadata": {},
          "execution_count": 16
        }
      ]
    },
    {
      "cell_type": "code",
      "source": [
        "#checking for any missing values in Written Questions array\n",
        "print(Written_Question_Data_raw.isnull().sum())\n",
        "#the data is clean, and can therefore be encoded now. \n",
        "#drop the first column of time taken to complete the survey.\n",
        "\n",
        "Written_Question_Data_raw = Written_Question_Data_raw.drop(columns = 'Duration (in seconds)' )"
      ],
      "metadata": {
        "id": "bFxduB7_wOeJ",
        "colab": {
          "base_uri": "https://localhost:8080/"
        },
        "outputId": "abc36bc2-9c91-46f7-fcd1-8b9b55180264"
      },
      "execution_count": null,
      "outputs": [
        {
          "output_type": "stream",
          "name": "stdout",
          "text": [
            "Duration (in seconds)    0\n",
            "Q2                       0\n",
            "Q3                       0\n",
            "Q4                       0\n",
            "Q5                       0\n",
            "Q8                       0\n",
            "Q9                       0\n",
            "Q11                      0\n",
            "Q16                      0\n",
            "Q23                      0\n",
            "Q24                      0\n",
            "Q25                      0\n",
            "Q26                      0\n",
            "Q27                      0\n",
            "Q29                      0\n",
            "Q30                      0\n",
            "Q43                      0\n",
            "dtype: int64\n"
          ]
        }
      ]
    },
    {
      "cell_type": "code",
      "source": [
        "Written_Question_Data_raw_Encoded = pd.get_dummies(Written_Question_Data_raw)\n",
        "Written_Question_Data_raw_Encoded.shape"
      ],
      "metadata": {
        "id": "CtYNsX7Uyqa6",
        "colab": {
          "base_uri": "https://localhost:8080/"
        },
        "outputId": "0ccf44d5-d3cc-43e1-ecb5-6e4afb5d85b2"
      },
      "execution_count": null,
      "outputs": [
        {
          "output_type": "execute_result",
          "data": {
            "text/plain": [
              "(8136, 187)"
            ]
          },
          "metadata": {},
          "execution_count": 18
        }
      ]
    },
    {
      "cell_type": "code",
      "source": [
        "Written_Question_Data_raw_Encoded.head()"
      ],
      "metadata": {
        "colab": {
          "base_uri": "https://localhost:8080/",
          "height": 334
        },
        "id": "6d2C5-VnYXKv",
        "outputId": "2051fec9-03b7-4d68-9e7a-414543a5304b"
      },
      "execution_count": null,
      "outputs": [
        {
          "output_type": "execute_result",
          "data": {
            "text/plain": [
              "   Q2_18-21  Q2_22-24  Q2_25-29  Q2_30-34  Q2_35-39  Q2_40-44  Q2_45-49  \\\n",
              "1         0         0         0         0         0         0         0   \n",
              "2         0         0         0         1         0         0         0   \n",
              "3         0         0         0         0         0         0         0   \n",
              "4         0         0         0         0         0         1         0   \n",
              "5         0         0         0         0         0         1         0   \n",
              "\n",
              "   Q2_50-54  Q2_55-59  Q2_60-69  ...  Q30_$10,000-$99,999  \\\n",
              "1         0         1         0  ...                    0   \n",
              "2         0         0         0  ...                    0   \n",
              "3         0         0         0  ...                    0   \n",
              "4         0         0         0  ...                    0   \n",
              "5         0         0         0  ...                    0   \n",
              "\n",
              "   Q30_$100,000 or more ($USD)  Q30_$100-$999  Q30_$1000-$9,999  Q43_0  \\\n",
              "1                            0              0                 1      0   \n",
              "2                            0              0                 0      1   \n",
              "3                            0              1                 0      0   \n",
              "4                            0              1                 0      0   \n",
              "5                            1              0                 0      0   \n",
              "\n",
              "   Q43_2-5 times  Q43_6-25 times  Q43_More than 25 times  Q43_Never  Q43_Once  \n",
              "1              1               0                       0          0         0  \n",
              "2              0               0                       0          0         0  \n",
              "3              0               0                       0          1         0  \n",
              "4              1               0                       0          0         0  \n",
              "5              0               0                       1          0         0  \n",
              "\n",
              "[5 rows x 187 columns]"
            ],
            "text/html": [
              "\n",
              "  <div id=\"df-820fd69f-c9a3-4eff-b4b6-ea295a034eba\">\n",
              "    <div class=\"colab-df-container\">\n",
              "      <div>\n",
              "<style scoped>\n",
              "    .dataframe tbody tr th:only-of-type {\n",
              "        vertical-align: middle;\n",
              "    }\n",
              "\n",
              "    .dataframe tbody tr th {\n",
              "        vertical-align: top;\n",
              "    }\n",
              "\n",
              "    .dataframe thead th {\n",
              "        text-align: right;\n",
              "    }\n",
              "</style>\n",
              "<table border=\"1\" class=\"dataframe\">\n",
              "  <thead>\n",
              "    <tr style=\"text-align: right;\">\n",
              "      <th></th>\n",
              "      <th>Q2_18-21</th>\n",
              "      <th>Q2_22-24</th>\n",
              "      <th>Q2_25-29</th>\n",
              "      <th>Q2_30-34</th>\n",
              "      <th>Q2_35-39</th>\n",
              "      <th>Q2_40-44</th>\n",
              "      <th>Q2_45-49</th>\n",
              "      <th>Q2_50-54</th>\n",
              "      <th>Q2_55-59</th>\n",
              "      <th>Q2_60-69</th>\n",
              "      <th>...</th>\n",
              "      <th>Q30_$10,000-$99,999</th>\n",
              "      <th>Q30_$100,000 or more ($USD)</th>\n",
              "      <th>Q30_$100-$999</th>\n",
              "      <th>Q30_$1000-$9,999</th>\n",
              "      <th>Q43_0</th>\n",
              "      <th>Q43_2-5 times</th>\n",
              "      <th>Q43_6-25 times</th>\n",
              "      <th>Q43_More than 25 times</th>\n",
              "      <th>Q43_Never</th>\n",
              "      <th>Q43_Once</th>\n",
              "    </tr>\n",
              "  </thead>\n",
              "  <tbody>\n",
              "    <tr>\n",
              "      <th>1</th>\n",
              "      <td>0</td>\n",
              "      <td>0</td>\n",
              "      <td>0</td>\n",
              "      <td>0</td>\n",
              "      <td>0</td>\n",
              "      <td>0</td>\n",
              "      <td>0</td>\n",
              "      <td>0</td>\n",
              "      <td>1</td>\n",
              "      <td>0</td>\n",
              "      <td>...</td>\n",
              "      <td>0</td>\n",
              "      <td>0</td>\n",
              "      <td>0</td>\n",
              "      <td>1</td>\n",
              "      <td>0</td>\n",
              "      <td>1</td>\n",
              "      <td>0</td>\n",
              "      <td>0</td>\n",
              "      <td>0</td>\n",
              "      <td>0</td>\n",
              "    </tr>\n",
              "    <tr>\n",
              "      <th>2</th>\n",
              "      <td>0</td>\n",
              "      <td>0</td>\n",
              "      <td>0</td>\n",
              "      <td>1</td>\n",
              "      <td>0</td>\n",
              "      <td>0</td>\n",
              "      <td>0</td>\n",
              "      <td>0</td>\n",
              "      <td>0</td>\n",
              "      <td>0</td>\n",
              "      <td>...</td>\n",
              "      <td>0</td>\n",
              "      <td>0</td>\n",
              "      <td>0</td>\n",
              "      <td>0</td>\n",
              "      <td>1</td>\n",
              "      <td>0</td>\n",
              "      <td>0</td>\n",
              "      <td>0</td>\n",
              "      <td>0</td>\n",
              "      <td>0</td>\n",
              "    </tr>\n",
              "    <tr>\n",
              "      <th>3</th>\n",
              "      <td>0</td>\n",
              "      <td>0</td>\n",
              "      <td>0</td>\n",
              "      <td>0</td>\n",
              "      <td>0</td>\n",
              "      <td>0</td>\n",
              "      <td>0</td>\n",
              "      <td>0</td>\n",
              "      <td>0</td>\n",
              "      <td>0</td>\n",
              "      <td>...</td>\n",
              "      <td>0</td>\n",
              "      <td>0</td>\n",
              "      <td>1</td>\n",
              "      <td>0</td>\n",
              "      <td>0</td>\n",
              "      <td>0</td>\n",
              "      <td>0</td>\n",
              "      <td>0</td>\n",
              "      <td>1</td>\n",
              "      <td>0</td>\n",
              "    </tr>\n",
              "    <tr>\n",
              "      <th>4</th>\n",
              "      <td>0</td>\n",
              "      <td>0</td>\n",
              "      <td>0</td>\n",
              "      <td>0</td>\n",
              "      <td>0</td>\n",
              "      <td>1</td>\n",
              "      <td>0</td>\n",
              "      <td>0</td>\n",
              "      <td>0</td>\n",
              "      <td>0</td>\n",
              "      <td>...</td>\n",
              "      <td>0</td>\n",
              "      <td>0</td>\n",
              "      <td>1</td>\n",
              "      <td>0</td>\n",
              "      <td>0</td>\n",
              "      <td>1</td>\n",
              "      <td>0</td>\n",
              "      <td>0</td>\n",
              "      <td>0</td>\n",
              "      <td>0</td>\n",
              "    </tr>\n",
              "    <tr>\n",
              "      <th>5</th>\n",
              "      <td>0</td>\n",
              "      <td>0</td>\n",
              "      <td>0</td>\n",
              "      <td>0</td>\n",
              "      <td>0</td>\n",
              "      <td>1</td>\n",
              "      <td>0</td>\n",
              "      <td>0</td>\n",
              "      <td>0</td>\n",
              "      <td>0</td>\n",
              "      <td>...</td>\n",
              "      <td>0</td>\n",
              "      <td>1</td>\n",
              "      <td>0</td>\n",
              "      <td>0</td>\n",
              "      <td>0</td>\n",
              "      <td>0</td>\n",
              "      <td>0</td>\n",
              "      <td>1</td>\n",
              "      <td>0</td>\n",
              "      <td>0</td>\n",
              "    </tr>\n",
              "  </tbody>\n",
              "</table>\n",
              "<p>5 rows × 187 columns</p>\n",
              "</div>\n",
              "      <button class=\"colab-df-convert\" onclick=\"convertToInteractive('df-820fd69f-c9a3-4eff-b4b6-ea295a034eba')\"\n",
              "              title=\"Convert this dataframe to an interactive table.\"\n",
              "              style=\"display:none;\">\n",
              "        \n",
              "  <svg xmlns=\"http://www.w3.org/2000/svg\" height=\"24px\"viewBox=\"0 0 24 24\"\n",
              "       width=\"24px\">\n",
              "    <path d=\"M0 0h24v24H0V0z\" fill=\"none\"/>\n",
              "    <path d=\"M18.56 5.44l.94 2.06.94-2.06 2.06-.94-2.06-.94-.94-2.06-.94 2.06-2.06.94zm-11 1L8.5 8.5l.94-2.06 2.06-.94-2.06-.94L8.5 2.5l-.94 2.06-2.06.94zm10 10l.94 2.06.94-2.06 2.06-.94-2.06-.94-.94-2.06-.94 2.06-2.06.94z\"/><path d=\"M17.41 7.96l-1.37-1.37c-.4-.4-.92-.59-1.43-.59-.52 0-1.04.2-1.43.59L10.3 9.45l-7.72 7.72c-.78.78-.78 2.05 0 2.83L4 21.41c.39.39.9.59 1.41.59.51 0 1.02-.2 1.41-.59l7.78-7.78 2.81-2.81c.8-.78.8-2.07 0-2.86zM5.41 20L4 18.59l7.72-7.72 1.47 1.35L5.41 20z\"/>\n",
              "  </svg>\n",
              "      </button>\n",
              "      \n",
              "  <style>\n",
              "    .colab-df-container {\n",
              "      display:flex;\n",
              "      flex-wrap:wrap;\n",
              "      gap: 12px;\n",
              "    }\n",
              "\n",
              "    .colab-df-convert {\n",
              "      background-color: #E8F0FE;\n",
              "      border: none;\n",
              "      border-radius: 50%;\n",
              "      cursor: pointer;\n",
              "      display: none;\n",
              "      fill: #1967D2;\n",
              "      height: 32px;\n",
              "      padding: 0 0 0 0;\n",
              "      width: 32px;\n",
              "    }\n",
              "\n",
              "    .colab-df-convert:hover {\n",
              "      background-color: #E2EBFA;\n",
              "      box-shadow: 0px 1px 2px rgba(60, 64, 67, 0.3), 0px 1px 3px 1px rgba(60, 64, 67, 0.15);\n",
              "      fill: #174EA6;\n",
              "    }\n",
              "\n",
              "    [theme=dark] .colab-df-convert {\n",
              "      background-color: #3B4455;\n",
              "      fill: #D2E3FC;\n",
              "    }\n",
              "\n",
              "    [theme=dark] .colab-df-convert:hover {\n",
              "      background-color: #434B5C;\n",
              "      box-shadow: 0px 1px 3px 1px rgba(0, 0, 0, 0.15);\n",
              "      filter: drop-shadow(0px 1px 2px rgba(0, 0, 0, 0.3));\n",
              "      fill: #FFFFFF;\n",
              "    }\n",
              "  </style>\n",
              "\n",
              "      <script>\n",
              "        const buttonEl =\n",
              "          document.querySelector('#df-820fd69f-c9a3-4eff-b4b6-ea295a034eba button.colab-df-convert');\n",
              "        buttonEl.style.display =\n",
              "          google.colab.kernel.accessAllowed ? 'block' : 'none';\n",
              "\n",
              "        async function convertToInteractive(key) {\n",
              "          const element = document.querySelector('#df-820fd69f-c9a3-4eff-b4b6-ea295a034eba');\n",
              "          const dataTable =\n",
              "            await google.colab.kernel.invokeFunction('convertToInteractive',\n",
              "                                                     [key], {});\n",
              "          if (!dataTable) return;\n",
              "\n",
              "          const docLinkHtml = 'Like what you see? Visit the ' +\n",
              "            '<a target=\"_blank\" href=https://colab.research.google.com/notebooks/data_table.ipynb>data table notebook</a>'\n",
              "            + ' to learn more about interactive tables.';\n",
              "          element.innerHTML = '';\n",
              "          dataTable['output_type'] = 'display_data';\n",
              "          await google.colab.output.renderOutput(dataTable, element);\n",
              "          const docLink = document.createElement('div');\n",
              "          docLink.innerHTML = docLinkHtml;\n",
              "          element.appendChild(docLink);\n",
              "        }\n",
              "      </script>\n",
              "    </div>\n",
              "  </div>\n",
              "  "
            ]
          },
          "metadata": {},
          "execution_count": 19
        }
      ]
    },
    {
      "cell_type": "code",
      "source": [
        "# Concatenate both encoded datasets:\n",
        "\n",
        "MCQ_Data_raw_Encoded_test  = MCQ_Data_raw_Encoded #just in case to keep both MCQ and Written Questions datasets encoded intact\n",
        "Written_Question_Data_raw_Encoded_test = Written_Question_Data_raw_Encoded\n",
        "\n",
        "    \n",
        "Final_Clean_Encoded_Data = pd.concat([MCQ_Data_raw_Encoded_test ,Written_Question_Data_raw_Encoded_test ], axis = 1)\n",
        "Final_Clean_Encoded_Data"
      ],
      "metadata": {
        "id": "25GvCkB88yrg"
      },
      "execution_count": null,
      "outputs": []
    },
    {
      "cell_type": "markdown",
      "source": [
        "# **Question 2: Feature Selection**\n",
        "\n",
        "In order to choose the best features representing the data, we choose to create a correlation matrix in order to visualize the effect of categories on interest on our variable of interest, i.e., salary bucket encoded. \n",
        "\n",
        "First we encode the data provided in order to be able to generate a covariance matrix. Encoded bukcet and all other feature vectors should have the same size"
      ],
      "metadata": {
        "id": "HkLxmIHW_Y8M"
      }
    },
    {
      "cell_type": "code",
      "source": [
        "#Check for correlation tmrw\n",
        "salarybuck_encoded = df['Q29_Encoded'] \n",
        "\n",
        "#gender_encoded\n",
        "map_dict_gender={'Woman':1,\n",
        "         'Prefer to self-describe':0,\n",
        "         'Man':2,\n",
        "         'Prefer not to say':3,\n",
        "          'Nonbinary':4}\n",
        "gender_encoded = df['Q3'].map(map_dict_gender)\n",
        "\n",
        "# similarly for education\n",
        "map_dict_education = {'Some college/university study without earning a bachelor’s degree':1,\n",
        "       'Bachelor’s degree':2, 'Doctoral degree':3, 'Master’s degree':4,\n",
        "       'I prefer not to answer':5, 'No formal education past high school':6,\n",
        "       'Professional doctorate':7}\n",
        "education_encoded = df['Q8'].map(map_dict_education)\n",
        "\n",
        "# years of coding experience\n",
        "map_dict_codingExperience = {'10-20 years':6, '20+ years':7, '5-10 years':5, '3-5 years':4, '< 1 years':2,\n",
        "       '1-3 years':3, 'I have never written code':1}\n",
        "experience_encoded = df['Q11'].map(map_dict_codingExperience)\n",
        "\n",
        "# Job position\n",
        "map_dict_job = {'Data Scientist':1, 'Software Engineer':2, 'Research Scientist':3,\n",
        "       'Developer Advocate':4,'Data Analyst (Business, Marketing, Financial, Quantitative, etc)':5,\n",
        "       'Data Engineer':6, 'Other':7, 'Machine Learning/ MLops Engineer':8,\n",
        "       'Engineer (non-software)':9, 'Teacher / professor':10,\n",
        "       'Manager (Program, Project, Operations, Executive-level, etc)':11,\n",
        "       'Statistician':12, 'Data Administrator':13, 'Data Architect':14} \n",
        "job_encoded = df['Q23'].map(map_dict_job)\n",
        "\n",
        "#age\n",
        "map_dict_age = {'55-59':9, '30-34':4, '70+':11, '40-44':6, '50-54':8, '25-29':3, '60-69':10,\n",
        "       '35-39':5, '22-24':2, '45-49':7, '18-21':1}\n",
        "age_encoded = df['Q2'].map(map_dict_age)\n",
        "\n",
        "#Experience in Ml methods\n",
        "map_dict_MLEXp = {'1-2 years':1, '4-5 years':2, '5-10 years':3, '2-3 years':4,\n",
        "       'Under 1 year':5, '3-4 years':6, '10-20 years':7,\n",
        "       'I do not use machine learning methods':8}\n",
        "MLExp_Encoded = df['Q16'].map(map_dict_MLEXp)\n",
        "MLExp_Encoded.fillna(0,inplace = True)\n"
      ],
      "metadata": {
        "id": "jFHSh4G9xzx7"
      },
      "execution_count": null,
      "outputs": []
    },
    {
      "cell_type": "code",
      "source": [
        "Correlation_Data = pd.concat([salarybuck_encoded,gender_encoded,education_encoded,experience_encoded,job_encoded,age_encoded,MLExp_Encoded], axis = 1)\n",
        "Correlation_Data  = Correlation_Data .rename(columns = {'Q29_Encoded':'Target Variable', 'Q3':'Gender', 'Q8':'Education', 'Q11':'Experience', 'Q23':'Job', 'Q2':'Age', 'Q16':'MLExp'})\n",
        "sns.heatmap(Correlation_Data.corr('spearman'), annot = True)"
      ],
      "metadata": {
        "colab": {
          "base_uri": "https://localhost:8080/",
          "height": 351
        },
        "id": "FiebXxHiBJT-",
        "outputId": "d503639a-ada1-4567-ebe7-d0cfb2fac758"
      },
      "execution_count": null,
      "outputs": [
        {
          "output_type": "execute_result",
          "data": {
            "text/plain": [
              "<matplotlib.axes._subplots.AxesSubplot at 0x7f6eefc98c10>"
            ]
          },
          "metadata": {},
          "execution_count": 22
        },
        {
          "output_type": "display_data",
          "data": {
            "text/plain": [
              "<Figure size 432x288 with 2 Axes>"
            ],
            "image/png": "[encoded data removed]"
          },
          "metadata": {
            "needs_background": "light"
          }
        }
      ]
    },
    {
      "cell_type": "code",
      "source": [
        "df['Q29_Encoded']\n",
        "ML_Data = df[['Q2','Q3','Q4','Q8','Q11','Q16','Q23','Q30']]\n",
        "ML_data_Encoded = pd.get_dummies(ML_Data)\n",
        "ML_data_Encoded = pd.concat([df['Q29_Encoded'], ML_data_Encoded], axis = 1)\n",
        "ML_data_Encoded"
      ],
      "metadata": {
        "id": "0_yxx66r9bPB",
        "colab": {
          "base_uri": "https://localhost:8080/",
          "height": 522
        },
        "outputId": "cda810b4-cab9-47f0-816a-e30e6124a5c9"
      },
      "execution_count": null,
      "outputs": [
        {
          "output_type": "execute_result",
          "data": {
            "text/plain": [
              "      Q29_Encoded  Q2_18-21  Q2_22-24  Q2_25-29  Q2_30-34  Q2_35-39  Q2_40-44  \\\n",
              "1             2.0         0         0         0         0         0         0   \n",
              "2            10.0         0         0         0         1         0         0   \n",
              "3            10.0         0         0         0         0         0         0   \n",
              "4            13.0         0         0         0         0         0         1   \n",
              "5            13.0         0         0         0         0         0         1   \n",
              "...           ...       ...       ...       ...       ...       ...       ...   \n",
              "8132         10.0         0         0         0         0         0         1   \n",
              "8133          0.0         0         0         0         0         1         0   \n",
              "8134          0.0         0         0         0         0         0         1   \n",
              "8135          2.0         0         0         1         0         0         0   \n",
              "8136          1.0         0         0         0         0         1         0   \n",
              "\n",
              "      Q2_45-49  Q2_50-54  Q2_55-59  ...  Q23_Software Engineer  \\\n",
              "1            0         0         1  ...                      0   \n",
              "2            0         0         0  ...                      1   \n",
              "3            0         0         0  ...                      0   \n",
              "4            0         0         0  ...                      0   \n",
              "5            0         0         0  ...                      0   \n",
              "...        ...       ...       ...  ...                    ...   \n",
              "8132         0         0         0  ...                      0   \n",
              "8133         0         0         0  ...                      0   \n",
              "8134         0         0         0  ...                      0   \n",
              "8135         0         0         0  ...                      0   \n",
              "8136         0         0         0  ...                      0   \n",
              "\n",
              "      Q23_Statistician  Q23_Teacher / professor  Q30_0  Q30_$0 ($USD)  \\\n",
              "1                    0                        0      0              0   \n",
              "2                    0                        0      0              1   \n",
              "3                    0                        0      0              0   \n",
              "4                    0                        0      0              0   \n",
              "5                    0                        0      0              0   \n",
              "...                ...                      ...    ...            ...   \n",
              "8132                 0                        0      0              1   \n",
              "8133                 0                        0      0              0   \n",
              "8134                 0                        0      0              0   \n",
              "8135                 0                        0      0              0   \n",
              "8136                 0                        0      0              1   \n",
              "\n",
              "      Q30_$1-$99  Q30_$10,000-$99,999  Q30_$100,000 or more ($USD)  \\\n",
              "1              0                    0                            0   \n",
              "2              0                    0                            0   \n",
              "3              0                    0                            0   \n",
              "4              0                    0                            0   \n",
              "5              0                    0                            1   \n",
              "...          ...                  ...                          ...   \n",
              "8132           0                    0                            0   \n",
              "8133           0                    0                            0   \n",
              "8134           1                    0                            0   \n",
              "8135           0                    0                            0   \n",
              "8136           0                    0                            0   \n",
              "\n",
              "      Q30_$100-$999  Q30_$1000-$9,999  \n",
              "1                 0                 1  \n",
              "2                 0                 0  \n",
              "3                 1                 0  \n",
              "4                 1                 0  \n",
              "5                 0                 0  \n",
              "...             ...               ...  \n",
              "8132              0                 0  \n",
              "8133              1                 0  \n",
              "8134              0                 0  \n",
              "8135              1                 0  \n",
              "8136              0                 0  \n",
              "\n",
              "[8136 rows x 119 columns]"
            ],
            "text/html": [
              "\n",
              "  <div id=\"df-d454d8bd-1dca-4889-8b5c-ceb32ff499f7\">\n",
              "    <div class=\"colab-df-container\">\n",
              "      <div>\n",
              "<style scoped>\n",
              "    .dataframe tbody tr th:only-of-type {\n",
              "        vertical-align: middle;\n",
              "    }\n",
              "\n",
              "    .dataframe tbody tr th {\n",
              "        vertical-align: top;\n",
              "    }\n",
              "\n",
              "    .dataframe thead th {\n",
              "        text-align: right;\n",
              "    }\n",
              "</style>\n",
              "<table border=\"1\" class=\"dataframe\">\n",
              "  <thead>\n",
              "    <tr style=\"text-align: right;\">\n",
              "      <th></th>\n",
              "      <th>Q29_Encoded</th>\n",
              "      <th>Q2_18-21</th>\n",
              "      <th>Q2_22-24</th>\n",
              "      <th>Q2_25-29</th>\n",
              "      <th>Q2_30-34</th>\n",
              "      <th>Q2_35-39</th>\n",
              "      <th>Q2_40-44</th>\n",
              "      <th>Q2_45-49</th>\n",
              "      <th>Q2_50-54</th>\n",
              "      <th>Q2_55-59</th>\n",
              "      <th>...</th>\n",
              "      <th>Q23_Software Engineer</th>\n",
              "      <th>Q23_Statistician</th>\n",
              "      <th>Q23_Teacher / professor</th>\n",
              "      <th>Q30_0</th>\n",
              "      <th>Q30_$0 ($USD)</th>\n",
              "      <th>Q30_$1-$99</th>\n",
              "      <th>Q30_$10,000-$99,999</th>\n",
              "      <th>Q30_$100,000 or more ($USD)</th>\n",
              "      <th>Q30_$100-$999</th>\n",
              "      <th>Q30_$1000-$9,999</th>\n",
              "    </tr>\n",
              "  </thead>\n",
              "  <tbody>\n",
              "    <tr>\n",
              "      <th>1</th>\n",
              "      <td>2.0</td>\n",
              "      <td>0</td>\n",
              "      <td>0</td>\n",
              "      <td>0</td>\n",
              "      <td>0</td>\n",
              "      <td>0</td>\n",
              "      <td>0</td>\n",
              "      <td>0</td>\n",
              "      <td>0</td>\n",
              "      <td>1</td>\n",
              "      <td>...</td>\n",
              "      <td>0</td>\n",
              "      <td>0</td>\n",
              "      <td>0</td>\n",
              "      <td>0</td>\n",
              "      <td>0</td>\n",
              "      <td>0</td>\n",
              "      <td>0</td>\n",
              "      <td>0</td>\n",
              "      <td>0</td>\n",
              "      <td>1</td>\n",
              "    </tr>\n",
              "    <tr>\n",
              "      <th>2</th>\n",
              "      <td>10.0</td>\n",
              "      <td>0</td>\n",
              "      <td>0</td>\n",
              "      <td>0</td>\n",
              "      <td>1</td>\n",
              "      <td>0</td>\n",
              "      <td>0</td>\n",
              "      <td>0</td>\n",
              "      <td>0</td>\n",
              "      <td>0</td>\n",
              "      <td>...</td>\n",
              "      <td>1</td>\n",
              "      <td>0</td>\n",
              "      <td>0</td>\n",
              "      <td>0</td>\n",
              "      <td>1</td>\n",
              "      <td>0</td>\n",
              "      <td>0</td>\n",
              "      <td>0</td>\n",
              "      <td>0</td>\n",
              "      <td>0</td>\n",
              "    </tr>\n",
              "    <tr>\n",
              "      <th>3</th>\n",
              "      <td>10.0</td>\n",
              "      <td>0</td>\n",
              "      <td>0</td>\n",
              "      <td>0</td>\n",
              "      <td>0</td>\n",
              "      <td>0</td>\n",
              "      <td>0</td>\n",
              "      <td>0</td>\n",
              "      <td>0</td>\n",
              "      <td>0</td>\n",
              "      <td>...</td>\n",
              "      <td>0</td>\n",
              "      <td>0</td>\n",
              "      <td>0</td>\n",
              "      <td>0</td>\n",
              "      <td>0</td>\n",
              "      <td>0</td>\n",
              "      <td>0</td>\n",
              "      <td>0</td>\n",
              "      <td>1</td>\n",
              "      <td>0</td>\n",
              "    </tr>\n",
              "    <tr>\n",
              "      <th>4</th>\n",
              "      <td>13.0</td>\n",
              "      <td>0</td>\n",
              "      <td>0</td>\n",
              "      <td>0</td>\n",
              "      <td>0</td>\n",
              "      <td>0</td>\n",
              "      <td>1</td>\n",
              "      <td>0</td>\n",
              "      <td>0</td>\n",
              "      <td>0</td>\n",
              "      <td>...</td>\n",
              "      <td>0</td>\n",
              "      <td>0</td>\n",
              "      <td>0</td>\n",
              "      <td>0</td>\n",
              "      <td>0</td>\n",
              "      <td>0</td>\n",
              "      <td>0</td>\n",
              "      <td>0</td>\n",
              "      <td>1</td>\n",
              "      <td>0</td>\n",
              "    </tr>\n",
              "    <tr>\n",
              "      <th>5</th>\n",
              "      <td>13.0</td>\n",
              "      <td>0</td>\n",
              "      <td>0</td>\n",
              "      <td>0</td>\n",
              "      <td>0</td>\n",
              "      <td>0</td>\n",
              "      <td>1</td>\n",
              "      <td>0</td>\n",
              "      <td>0</td>\n",
              "      <td>0</td>\n",
              "      <td>...</td>\n",
              "      <td>0</td>\n",
              "      <td>0</td>\n",
              "      <td>0</td>\n",
              "      <td>0</td>\n",
              "      <td>0</td>\n",
              "      <td>0</td>\n",
              "      <td>0</td>\n",
              "      <td>1</td>\n",
              "      <td>0</td>\n",
              "      <td>0</td>\n",
              "    </tr>\n",
              "    <tr>\n",
              "      <th>...</th>\n",
              "      <td>...</td>\n",
              "      <td>...</td>\n",
              "      <td>...</td>\n",
              "      <td>...</td>\n",
              "      <td>...</td>\n",
              "      <td>...</td>\n",
              "      <td>...</td>\n",
              "      <td>...</td>\n",
              "      <td>...</td>\n",
              "      <td>...</td>\n",
              "      <td>...</td>\n",
              "      <td>...</td>\n",
              "      <td>...</td>\n",
              "      <td>...</td>\n",
              "      <td>...</td>\n",
              "      <td>...</td>\n",
              "      <td>...</td>\n",
              "      <td>...</td>\n",
              "      <td>...</td>\n",
              "      <td>...</td>\n",
              "      <td>...</td>\n",
              "    </tr>\n",
              "    <tr>\n",
              "      <th>8132</th>\n",
              "      <td>10.0</td>\n",
              "      <td>0</td>\n",
              "      <td>0</td>\n",
              "      <td>0</td>\n",
              "      <td>0</td>\n",
              "      <td>0</td>\n",
              "      <td>1</td>\n",
              "      <td>0</td>\n",
              "      <td>0</td>\n",
              "      <td>0</td>\n",
              "      <td>...</td>\n",
              "      <td>0</td>\n",
              "      <td>0</td>\n",
              "      <td>0</td>\n",
              "      <td>0</td>\n",
              "      <td>1</td>\n",
              "      <td>0</td>\n",
              "      <td>0</td>\n",
              "      <td>0</td>\n",
              "      <td>0</td>\n",
              "      <td>0</td>\n",
              "    </tr>\n",
              "    <tr>\n",
              "      <th>8133</th>\n",
              "      <td>0.0</td>\n",
              "      <td>0</td>\n",
              "      <td>0</td>\n",
              "      <td>0</td>\n",
              "      <td>0</td>\n",
              "      <td>1</td>\n",
              "      <td>0</td>\n",
              "      <td>0</td>\n",
              "      <td>0</td>\n",
              "      <td>0</td>\n",
              "      <td>...</td>\n",
              "      <td>0</td>\n",
              "      <td>0</td>\n",
              "      <td>0</td>\n",
              "      <td>0</td>\n",
              "      <td>0</td>\n",
              "      <td>0</td>\n",
              "      <td>0</td>\n",
              "      <td>0</td>\n",
              "      <td>1</td>\n",
              "      <td>0</td>\n",
              "    </tr>\n",
              "    <tr>\n",
              "      <th>8134</th>\n",
              "      <td>0.0</td>\n",
              "      <td>0</td>\n",
              "      <td>0</td>\n",
              "      <td>0</td>\n",
              "      <td>0</td>\n",
              "      <td>0</td>\n",
              "      <td>1</td>\n",
              "      <td>0</td>\n",
              "      <td>0</td>\n",
              "      <td>0</td>\n",
              "      <td>...</td>\n",
              "      <td>0</td>\n",
              "      <td>0</td>\n",
              "      <td>0</td>\n",
              "      <td>0</td>\n",
              "      <td>0</td>\n",
              "      <td>1</td>\n",
              "      <td>0</td>\n",
              "      <td>0</td>\n",
              "      <td>0</td>\n",
              "      <td>0</td>\n",
              "    </tr>\n",
              "    <tr>\n",
              "      <th>8135</th>\n",
              "      <td>2.0</td>\n",
              "      <td>0</td>\n",
              "      <td>0</td>\n",
              "      <td>1</td>\n",
              "      <td>0</td>\n",
              "      <td>0</td>\n",
              "      <td>0</td>\n",
              "      <td>0</td>\n",
              "      <td>0</td>\n",
              "      <td>0</td>\n",
              "      <td>...</td>\n",
              "      <td>0</td>\n",
              "      <td>0</td>\n",
              "      <td>0</td>\n",
              "      <td>0</td>\n",
              "      <td>0</td>\n",
              "      <td>0</td>\n",
              "      <td>0</td>\n",
              "      <td>0</td>\n",
              "      <td>1</td>\n",
              "      <td>0</td>\n",
              "    </tr>\n",
              "    <tr>\n",
              "      <th>8136</th>\n",
              "      <td>1.0</td>\n",
              "      <td>0</td>\n",
              "      <td>0</td>\n",
              "      <td>0</td>\n",
              "      <td>0</td>\n",
              "      <td>1</td>\n",
              "      <td>0</td>\n",
              "      <td>0</td>\n",
              "      <td>0</td>\n",
              "      <td>0</td>\n",
              "      <td>...</td>\n",
              "      <td>0</td>\n",
              "      <td>0</td>\n",
              "      <td>0</td>\n",
              "      <td>0</td>\n",
              "      <td>1</td>\n",
              "      <td>0</td>\n",
              "      <td>0</td>\n",
              "      <td>0</td>\n",
              "      <td>0</td>\n",
              "      <td>0</td>\n",
              "    </tr>\n",
              "  </tbody>\n",
              "</table>\n",
              "<p>8136 rows × 119 columns</p>\n",
              "</div>\n",
              "      <button class=\"colab-df-convert\" onclick=\"convertToInteractive('df-d454d8bd-1dca-4889-8b5c-ceb32ff499f7')\"\n",
              "              title=\"Convert this dataframe to an interactive table.\"\n",
              "              style=\"display:none;\">\n",
              "        \n",
              "  <svg xmlns=\"http://www.w3.org/2000/svg\" height=\"24px\"viewBox=\"0 0 24 24\"\n",
              "       width=\"24px\">\n",
              "    <path d=\"M0 0h24v24H0V0z\" fill=\"none\"/>\n",
              "    <path d=\"M18.56 5.44l.94 2.06.94-2.06 2.06-.94-2.06-.94-.94-2.06-.94 2.06-2.06.94zm-11 1L8.5 8.5l.94-2.06 2.06-.94-2.06-.94L8.5 2.5l-.94 2.06-2.06.94zm10 10l.94 2.06.94-2.06 2.06-.94-2.06-.94-.94-2.06-.94 2.06-2.06.94z\"/><path d=\"M17.41 7.96l-1.37-1.37c-.4-.4-.92-.59-1.43-.59-.52 0-1.04.2-1.43.59L10.3 9.45l-7.72 7.72c-.78.78-.78 2.05 0 2.83L4 21.41c.39.39.9.59 1.41.59.51 0 1.02-.2 1.41-.59l7.78-7.78 2.81-2.81c.8-.78.8-2.07 0-2.86zM5.41 20L4 18.59l7.72-7.72 1.47 1.35L5.41 20z\"/>\n",
              "  </svg>\n",
              "      </button>\n",
              "      \n",
              "  <style>\n",
              "    .colab-df-container {\n",
              "      display:flex;\n",
              "      flex-wrap:wrap;\n",
              "      gap: 12px;\n",
              "    }\n",
              "\n",
              "    .colab-df-convert {\n",
              "      background-color: #E8F0FE;\n",
              "      border: none;\n",
              "      border-radius: 50%;\n",
              "      cursor: pointer;\n",
              "      display: none;\n",
              "      fill: #1967D2;\n",
              "      height: 32px;\n",
              "      padding: 0 0 0 0;\n",
              "      width: 32px;\n",
              "    }\n",
              "\n",
              "    .colab-df-convert:hover {\n",
              "      background-color: #E2EBFA;\n",
              "      box-shadow: 0px 1px 2px rgba(60, 64, 67, 0.3), 0px 1px 3px 1px rgba(60, 64, 67, 0.15);\n",
              "      fill: #174EA6;\n",
              "    }\n",
              "\n",
              "    [theme=dark] .colab-df-convert {\n",
              "      background-color: #3B4455;\n",
              "      fill: #D2E3FC;\n",
              "    }\n",
              "\n",
              "    [theme=dark] .colab-df-convert:hover {\n",
              "      background-color: #434B5C;\n",
              "      box-shadow: 0px 1px 3px 1px rgba(0, 0, 0, 0.15);\n",
              "      filter: drop-shadow(0px 1px 2px rgba(0, 0, 0, 0.3));\n",
              "      fill: #FFFFFF;\n",
              "    }\n",
              "  </style>\n",
              "\n",
              "      <script>\n",
              "        const buttonEl =\n",
              "          document.querySelector('#df-d454d8bd-1dca-4889-8b5c-ceb32ff499f7 button.colab-df-convert');\n",
              "        buttonEl.style.display =\n",
              "          google.colab.kernel.accessAllowed ? 'block' : 'none';\n",
              "\n",
              "        async function convertToInteractive(key) {\n",
              "          const element = document.querySelector('#df-d454d8bd-1dca-4889-8b5c-ceb32ff499f7');\n",
              "          const dataTable =\n",
              "            await google.colab.kernel.invokeFunction('convertToInteractive',\n",
              "                                                     [key], {});\n",
              "          if (!dataTable) return;\n",
              "\n",
              "          const docLinkHtml = 'Like what you see? Visit the ' +\n",
              "            '<a target=\"_blank\" href=https://colab.research.google.com/notebooks/data_table.ipynb>data table notebook</a>'\n",
              "            + ' to learn more about interactive tables.';\n",
              "          element.innerHTML = '';\n",
              "          dataTable['output_type'] = 'display_data';\n",
              "          await google.colab.output.renderOutput(dataTable, element);\n",
              "          const docLink = document.createElement('div');\n",
              "          docLink.innerHTML = docLinkHtml;\n",
              "          element.appendChild(docLink);\n",
              "        }\n",
              "      </script>\n",
              "    </div>\n",
              "  </div>\n",
              "  "
            ]
          },
          "metadata": {},
          "execution_count": 23
        }
      ]
    },
    {
      "cell_type": "code",
      "source": [
        "#Split the data for training and testing:\n",
        "X = ML_data_Encoded.drop(columns = 'Q29_Encoded')\n",
        "y = ML_data_Encoded.Q29_Encoded\n",
        "X_train, X_test, y_train, y_test = train_test_split(X, y, test_size=0.33, random_state=30)\n"
      ],
      "metadata": {
        "id": "IrmKkEoaD0dR"
      },
      "execution_count": null,
      "outputs": []
    },
    {
      "cell_type": "code",
      "source": [
        "#fitting the data with ordinal logistic regression\n",
        "logreg = LogisticRegression(C = 1 , penalty='l1', max_iter=5000, solver='saga')\n",
        "logreg.fit(X_train, y_train)"
      ],
      "metadata": {
        "colab": {
          "base_uri": "https://localhost:8080/"
        },
        "id": "5T-BKyfoF9cQ",
        "outputId": "8c094bf7-ac9e-4d38-e46f-38e1e6200759"
      },
      "execution_count": null,
      "outputs": [
        {
          "output_type": "execute_result",
          "data": {
            "text/plain": [
              "LogisticRegression(C=1, max_iter=5000, penalty='l1', solver='saga')"
            ]
          },
          "metadata": {},
          "execution_count": 27
        }
      ]
    },
    {
      "cell_type": "markdown",
      "source": [
        "mse, bias, var = bias_variance_decomp(model_lr, X_train, y_train, X_test, y_test, loss='mse', num_rounds=200, random_seed=123)\n"
      ],
      "metadata": {
        "id": "j-1tCaWjRwc_"
      }
    },
    {
      "cell_type": "code",
      "source": [
        "# cross validating using logreg and 10 fold cross validation using Accuracy\n",
        "fold_accuracy = cross_val_score(logreg,X_train,y_train,cv=10,scoring = 'accuracy')\n",
        "fold_accuracy"
      ],
      "metadata": {
        "id": "-A2dPuVlEWhF"
      },
      "execution_count": null,
      "outputs": []
    },
    {
      "cell_type": "code",
      "source": [
        "#wihtout the learning algorithm, the probability of belonging to a salary bucket based on the data distribution is\n",
        "print(y.value_counts(normalize=True))"
      ],
      "metadata": {
        "id": "Z8aLIDjtTBb_"
      },
      "execution_count": null,
      "outputs": []
    },
    {
      "cell_type": "markdown",
      "source": [
        "## Verfifying model performace before tuning "
      ],
      "metadata": {
        "id": "crewA6pZpx8Y"
      }
    },
    {
      "cell_type": "code",
      "source": [
        "y_pred = logreg.predict(X_test)\n",
        "y_pred\n",
        "MSE = np.square(np.subtract(y_test,y_pred)).mean()\n",
        "rsme = pow(MSE,0.5)\n",
        "rsme"
      ],
      "metadata": {
        "id": "auMZDbwop6Zn",
        "colab": {
          "base_uri": "https://localhost:8080/"
        },
        "outputId": "73e2cb9f-94e0-4f54-a3d9-f085bcb6d8eb"
      },
      "execution_count": null,
      "outputs": [
        {
          "output_type": "execute_result",
          "data": {
            "text/plain": [
              "3.5568801846624933"
            ]
          },
          "metadata": {},
          "execution_count": 77
        }
      ]
    },
    {
      "cell_type": "code",
      "source": [
        "y_train2 = np.array(y_train)\n",
        "y_test2 = np.array(y_test)\n",
        "X_train2 = np.array(X_train)\n",
        "X_test2 = np.array(X_test)"
      ],
      "metadata": {
        "id": "5vKCLSfDYBm9"
      },
      "execution_count": null,
      "outputs": []
    },
    {
      "cell_type": "code",
      "source": [
        "# the below part has been done manually by varying the value of C, it was crashing when implemented in a loop for some reason. \n",
        "mse_array = []\n",
        "bias_array = []\n",
        "var_array = []\n",
        "mse,bias,var = bias_variance_decomp.bias_variance_decomp(LogisticRegression(C=100 , max_iter = 5000), X_train2, y_train2, X_test2, y_test2, loss='mse')\n",
        "\n",
        "\n",
        "mse_array.append(mse)\n",
        "bias_array.append(bias)\n",
        "var_array.append(var)\n",
        "# for C = 100; [ ]\n",
        "# for C = 10; [12.54 , 9.98 , 2.566 ]\n",
        "# for C = 1 ; [12.65 , 10.313, 1.338 ]\n",
        "# for C=0.1 ; [14.80 , 12.99, 1.802 ] \n",
        "# for C = 0.01; [23.87 , 22.90, 0.967 ]\n",
        "# for C = 0.001; [33.567, 33.567, 0.0  ]\n",
        "\n",
        "C = [0.001, 0.01, 0.1, 1, 10]\n"
      ],
      "metadata": {
        "id": "HJW9P7MuUXTY"
      },
      "execution_count": null,
      "outputs": []
    },
    {
      "cell_type": "code",
      "source": [
        "C = [0.001, 0.01, 0.1, 1 , 10]\n",
        "mse_ = [33.567 , 23.87, 14.8, 12.65, 12.54]\n",
        "bias_ = [33.567 , 22.9, 12.99, 10.313, 9.98]\n",
        "var_ = [0.0 , 0.967, 1.802, 1.338, 2.566]\n",
        "\n",
        "\n",
        "fig = plt.figure()\n",
        "fig.set_size_inches(10,5)\n",
        "plt.xscale('log')\n",
        "plt.plot(C , mse_)\n",
        "plt.plot(C , bias_)\n",
        "plt.plot(C, var_)\n",
        "plt.legend(['mse','bias','var'])"
      ],
      "metadata": {
        "colab": {
          "base_uri": "https://localhost:8080/",
          "height": 343
        },
        "id": "IvHgGctlZjUO",
        "outputId": "bac7315d-959b-4b4a-db64-06506046fd32"
      },
      "execution_count": null,
      "outputs": [
        {
          "output_type": "execute_result",
          "data": {
            "text/plain": [
              "<matplotlib.legend.Legend at 0x7f6eed318510>"
            ]
          },
          "metadata": {},
          "execution_count": 25
        },
        {
          "output_type": "display_data",
          "data": {
            "text/plain": [
              "<Figure size 720x360 with 1 Axes>"
            ],
            "image/png": "[encoded data removed]"
          },
          "metadata": {
            "needs_background": "light"
          }
        }
      ]
    },
    {
      "cell_type": "code",
      "source": [
        "#visualizing bias variance tradeoff\n",
        "Bias_Var_Tradeoff = [33.567 , 23.867, 14.792, 11.651, 12.546]\n",
        "fig = plt.figure()\n",
        "fig.set_size_inches(10,5)\n",
        "plt.xscale('log')\n",
        "plt.plot(C , bias_)\n",
        "plt.plot(C , var_)\n",
        "plt.plot(C , Bias_Var_Tradeoff)\n",
        "plt.legend(['Bias','Var','Tradeoff'])"
      ],
      "metadata": {
        "colab": {
          "base_uri": "https://localhost:8080/",
          "height": 343
        },
        "id": "lx722h_BgKJd",
        "outputId": "70b5dc98-3338-46fb-9819-ae0b1680f011"
      },
      "execution_count": null,
      "outputs": [
        {
          "output_type": "execute_result",
          "data": {
            "text/plain": [
              "<matplotlib.legend.Legend at 0x7f6eecff08d0>"
            ]
          },
          "metadata": {},
          "execution_count": 27
        },
        {
          "output_type": "display_data",
          "data": {
            "text/plain": [
              "<Figure size 720x360 with 1 Axes>"
            ],
            "image/png": "[encoded data removed]"
          },
          "metadata": {
            "needs_background": "light"
          }
        }
      ]
    },
    {
      "cell_type": "markdown",
      "source": [
        "It can be seen from the graph that the optimal tradeoff is possible for hyperparameter value of 1"
      ],
      "metadata": {
        "id": "2Zq_vhMpjgA3"
      }
    },
    {
      "cell_type": "code",
      "source": [
        "#Checking if accuracy of regression would change by standardizing the data. (due to difference in array size of countries and others)\n",
        "scaler = StandardScaler(with_mean=False)\n",
        "scaler.fit(X_train)\n",
        "logreg1 = LogisticRegression(C = 1 , penalty='l1', max_iter=5000, solver='saga')\n",
        "X_train_Standard = scaler.transform(X_train)\n",
        "logreg1.fit(X_train_Standard, y_train)\n",
        "\n",
        "#Standardization should not change the results by much because data is not nromally distributed"
      ],
      "metadata": {
        "colab": {
          "base_uri": "https://localhost:8080/"
        },
        "id": "NbU4GzNsHA1r",
        "outputId": "3040ae2b-8156-4fd0-b448-cf0004a3c589"
      },
      "execution_count": null,
      "outputs": [
        {
          "output_type": "execute_result",
          "data": {
            "text/plain": [
              "LogisticRegression(C=1, max_iter=5000, penalty='l1', solver='saga')"
            ]
          },
          "metadata": {},
          "execution_count": 28
        }
      ]
    },
    {
      "cell_type": "code",
      "source": [
        "cross_val_score(logreg1,X_train_Standard,y_train,cv=10,scoring = 'accuracy')"
      ],
      "metadata": {
        "colab": {
          "base_uri": "https://localhost:8080/"
        },
        "id": "rGh-34y8DdDe",
        "outputId": "5c93490a-4d9e-40a5-d899-eb6a91a74a4b"
      },
      "execution_count": null,
      "outputs": [
        {
          "output_type": "execute_result",
          "data": {
            "text/plain": [
              "array([0.41941392, 0.40183486, 0.42385321, 0.4146789 , 0.42752294,\n",
              "       0.37431193, 0.42568807, 0.42018349, 0.41834862, 0.42201835])"
            ]
          },
          "metadata": {},
          "execution_count": 29
        }
      ]
    },
    {
      "cell_type": "markdown",
      "source": [
        "# **Model Tuning**: Grid Search Implementation and Confusion Matrix\n"
      ],
      "metadata": {
        "id": "nBBSkbpkpAJC"
      }
    },
    {
      "cell_type": "code",
      "source": [
        "\n",
        "# the two hyperparameters to optmizie are the penalty and the the C value\n",
        "\n",
        "grid={\"C\":[0.01, 0.1, 1, 10], \"penalty\":[\"l2\"]}\n",
        "logreg2=LogisticRegression(max_iter = 5000)\n",
        "logreg_cv=GridSearchCV(logreg2,grid,cv=10,error_score = 'raise')\n",
        "logreg_cv.fit(X_train,y_train)\n"
      ],
      "metadata": {
        "colab": {
          "base_uri": "https://localhost:8080/"
        },
        "id": "gTgUc9zOSsoo",
        "outputId": "aded289f-3f69-46d2-d151-93d115f0ce42"
      },
      "execution_count": null,
      "outputs": [
        {
          "output_type": "execute_result",
          "data": {
            "text/plain": [
              "GridSearchCV(cv=10, error_score='raise',\n",
              "             estimator=LogisticRegression(max_iter=5000),\n",
              "             param_grid={'C': [0.01, 0.1, 1, 10], 'penalty': ['l2']})"
            ]
          },
          "metadata": {},
          "execution_count": 28
        }
      ]
    },
    {
      "cell_type": "code",
      "source": [
        "print(\"tuned hpyerparameters :(best parameters) \",logreg_cv.best_params_)\n",
        "print(\"accuracy :\",logreg_cv.best_score_)"
      ],
      "metadata": {
        "id": "JW76qxCMMaoD",
        "colab": {
          "base_uri": "https://localhost:8080/"
        },
        "outputId": "d1397fc1-64e0-43f6-9364-437f78fd1f0a"
      },
      "execution_count": null,
      "outputs": [
        {
          "output_type": "stream",
          "name": "stdout",
          "text": [
            "tuned hpyerparameters :(best parameters)  {'C': 1, 'penalty': 'l2'}\n",
            "accuracy : 0.41717074973955715\n"
          ]
        }
      ]
    },
    {
      "cell_type": "code",
      "source": [
        "y_pred = logreg_cv.predict(X_test)\n",
        "Confusion_matrix = confusion_matrix(y_test, y_pred)\n",
        "plt.figure(figsize = (12,5))\n",
        "sns.heatmap(Confusion_matrix, annot=True, cmap = 'crest')"
      ],
      "metadata": {
        "colab": {
          "base_uri": "https://localhost:8080/",
          "height": 337
        },
        "id": "heTtIsAeV1kZ",
        "outputId": "9c95d508-296d-49bd-ae6e-46b7c1ad9f08"
      },
      "execution_count": null,
      "outputs": [
        {
          "output_type": "execute_result",
          "data": {
            "text/plain": [
              "<matplotlib.axes._subplots.AxesSubplot at 0x7f6eec4472d0>"
            ]
          },
          "metadata": {},
          "execution_count": 30
        },
        {
          "output_type": "display_data",
          "data": {
            "text/plain": [
              "<Figure size 864x360 with 2 Axes>"
            ],
            "image/png": "[encoded data removed]"
          },
          "metadata": {
            "needs_background": "light"
          }
        }
      ]
    },
    {
      "cell_type": "code",
      "source": [
        "y_test_plot=pd.DataFrame(y_test).value_counts()\n",
        "y_pred_plot = pd.DataFrame(y_pred).value_counts()\n",
        "\n",
        "y_plot = pd.concat([y_pred_plot, y_test_plot], axis =1).plot(kind = 'bar')\n",
        "plt.legend(['Predict','Actual'])\n"
      ],
      "metadata": {
        "colab": {
          "base_uri": "https://localhost:8080/",
          "height": 305
        },
        "id": "HN6f3A8VVCcn",
        "outputId": "c10cf0fe-254d-4792-c0fc-6e013f43fd15"
      },
      "execution_count": null,
      "outputs": [
        {
          "output_type": "execute_result",
          "data": {
            "text/plain": [
              "<matplotlib.legend.Legend at 0x7f6eec316a10>"
            ]
          },
          "metadata": {},
          "execution_count": 39
        },
        {
          "output_type": "display_data",
          "data": {
            "text/plain": [
              "<Figure size 432x288 with 1 Axes>"
            ],
            "image/png": "[encoded data removed]"
          },
          "metadata": {
            "needs_background": "light"
          }
        }
      ]
    }
  ]
}